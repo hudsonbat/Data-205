{
 "cells": [
  {
   "cell_type": "code",
   "execution_count": 3,
   "metadata": {},
   "outputs": [],
   "source": [
    "import pandas as pd\n",
    "import numpy as np\n",
    "import os"
   ]
  },
  {
   "cell_type": "code",
   "execution_count": 4,
   "metadata": {},
   "outputs": [
    {
     "data": {
      "text/plain": [
       "'/rapids/notebooks/Capstone'"
      ]
     },
     "execution_count": 4,
     "metadata": {},
     "output_type": "execute_result"
    }
   ],
   "source": [
    "os.getcwd()"
   ]
  },
  {
   "cell_type": "code",
   "execution_count": 20,
   "metadata": {},
   "outputs": [],
   "source": [
    "data = pd.read_csv('Crime_Clean.csv')"
   ]
  },
  {
   "cell_type": "code",
   "execution_count": 21,
   "metadata": {},
   "outputs": [
    {
     "data": {
      "text/html": [
       "<div>\n",
       "<style scoped>\n",
       "    .dataframe tbody tr th:only-of-type {\n",
       "        vertical-align: middle;\n",
       "    }\n",
       "\n",
       "    .dataframe tbody tr th {\n",
       "        vertical-align: top;\n",
       "    }\n",
       "\n",
       "    .dataframe thead th {\n",
       "        text-align: right;\n",
       "    }\n",
       "</style>\n",
       "<table border=\"1\" class=\"dataframe\">\n",
       "  <thead>\n",
       "    <tr style=\"text-align: right;\">\n",
       "      <th></th>\n",
       "      <th>Unnamed: 0</th>\n",
       "      <th>Incident ID</th>\n",
       "      <th>City</th>\n",
       "      <th>Police District Name</th>\n",
       "      <th>Block</th>\n",
       "      <th>Crime Name1</th>\n",
       "      <th>Crime Name2</th>\n",
       "      <th>Crime Name3</th>\n",
       "      <th>Victims</th>\n",
       "      <th>Place</th>\n",
       "      <th>...</th>\n",
       "      <th>Total Laborforce</th>\n",
       "      <th>Total Unemployed</th>\n",
       "      <th>Start_Date_Time</th>\n",
       "      <th>Location</th>\n",
       "      <th>Longitude</th>\n",
       "      <th>Latitude</th>\n",
       "      <th>High School %</th>\n",
       "      <th>Bachelors %</th>\n",
       "      <th>Public Transportation %</th>\n",
       "      <th>Unemployed %</th>\n",
       "    </tr>\n",
       "  </thead>\n",
       "  <tbody>\n",
       "    <tr>\n",
       "      <th>0</th>\n",
       "      <td>50</td>\n",
       "      <td>201268391</td>\n",
       "      <td>GAITHERSBURG</td>\n",
       "      <td>GERMANTOWN</td>\n",
       "      <td>7001011</td>\n",
       "      <td>Other</td>\n",
       "      <td>All Other Offenses</td>\n",
       "      <td>POLICE INFORMATION</td>\n",
       "      <td>1</td>\n",
       "      <td>Residence - Single Family</td>\n",
       "      <td>...</td>\n",
       "      <td>1067.0</td>\n",
       "      <td>31.0</td>\n",
       "      <td>12/06/2019 09:16:00 PM</td>\n",
       "      <td>(39.2006, -77.1996)</td>\n",
       "      <td>-77.199620</td>\n",
       "      <td>39.200626</td>\n",
       "      <td>0.083714</td>\n",
       "      <td>0.270167</td>\n",
       "      <td>0.049515</td>\n",
       "      <td>0.029053</td>\n",
       "    </tr>\n",
       "    <tr>\n",
       "      <th>1</th>\n",
       "      <td>51</td>\n",
       "      <td>201234989</td>\n",
       "      <td>GAITHERSBURG</td>\n",
       "      <td>MONTGOMERY VILLAGE</td>\n",
       "      <td>7001011</td>\n",
       "      <td>Crime Against Person</td>\n",
       "      <td>Fondling</td>\n",
       "      <td>SEX OFFENSE - FONDLING</td>\n",
       "      <td>1</td>\n",
       "      <td>Residence - Single Family</td>\n",
       "      <td>...</td>\n",
       "      <td>1067.0</td>\n",
       "      <td>31.0</td>\n",
       "      <td>04/13/2019 02:00:00 AM</td>\n",
       "      <td>(39.1977, -77.1997)</td>\n",
       "      <td>-77.199669</td>\n",
       "      <td>39.197675</td>\n",
       "      <td>0.083714</td>\n",
       "      <td>0.270167</td>\n",
       "      <td>0.049515</td>\n",
       "      <td>0.029053</td>\n",
       "    </tr>\n",
       "    <tr>\n",
       "      <th>2</th>\n",
       "      <td>52</td>\n",
       "      <td>201281727</td>\n",
       "      <td>GAITHERSBURG</td>\n",
       "      <td>MONTGOMERY VILLAGE</td>\n",
       "      <td>7001011</td>\n",
       "      <td>Other</td>\n",
       "      <td>All Other Offenses</td>\n",
       "      <td>POLICE INFORMATION</td>\n",
       "      <td>1</td>\n",
       "      <td>Residence - Yard</td>\n",
       "      <td>...</td>\n",
       "      <td>1067.0</td>\n",
       "      <td>31.0</td>\n",
       "      <td>03/13/2020 09:09:00 AM</td>\n",
       "      <td>(39.2081, -77.1748)</td>\n",
       "      <td>-77.174806</td>\n",
       "      <td>39.208137</td>\n",
       "      <td>0.083714</td>\n",
       "      <td>0.270167</td>\n",
       "      <td>0.049515</td>\n",
       "      <td>0.029053</td>\n",
       "    </tr>\n",
       "    <tr>\n",
       "      <th>3</th>\n",
       "      <td>53</td>\n",
       "      <td>201265326</td>\n",
       "      <td>GAITHERSBURG</td>\n",
       "      <td>MONTGOMERY VILLAGE</td>\n",
       "      <td>7001011</td>\n",
       "      <td>Other</td>\n",
       "      <td>All Other Offenses</td>\n",
       "      <td>POLICE INFORMATION</td>\n",
       "      <td>1</td>\n",
       "      <td>Residence - Single Family</td>\n",
       "      <td>...</td>\n",
       "      <td>1067.0</td>\n",
       "      <td>31.0</td>\n",
       "      <td>11/15/2019 04:33:00 PM</td>\n",
       "      <td>(39.2025, -77.1848)</td>\n",
       "      <td>-77.184766</td>\n",
       "      <td>39.202456</td>\n",
       "      <td>0.083714</td>\n",
       "      <td>0.270167</td>\n",
       "      <td>0.049515</td>\n",
       "      <td>0.029053</td>\n",
       "    </tr>\n",
       "    <tr>\n",
       "      <th>4</th>\n",
       "      <td>54</td>\n",
       "      <td>201090622</td>\n",
       "      <td>GAITHERSBURG</td>\n",
       "      <td>GERMANTOWN</td>\n",
       "      <td>7001011</td>\n",
       "      <td>Other</td>\n",
       "      <td>All Other Offenses</td>\n",
       "      <td>POLICE INFORMATION</td>\n",
       "      <td>1</td>\n",
       "      <td>Street - Other</td>\n",
       "      <td>...</td>\n",
       "      <td>1067.0</td>\n",
       "      <td>31.0</td>\n",
       "      <td>07/22/2016 10:27:00 PM</td>\n",
       "      <td>(39.205, -77.1643)</td>\n",
       "      <td>-77.164342</td>\n",
       "      <td>39.204973</td>\n",
       "      <td>0.083714</td>\n",
       "      <td>0.270167</td>\n",
       "      <td>0.049515</td>\n",
       "      <td>0.029053</td>\n",
       "    </tr>\n",
       "  </tbody>\n",
       "</table>\n",
       "<p>5 rows × 28 columns</p>\n",
       "</div>"
      ],
      "text/plain": [
       "   Unnamed: 0  Incident ID          City Police District Name    Block  \\\n",
       "0          50    201268391  GAITHERSBURG           GERMANTOWN  7001011   \n",
       "1          51    201234989  GAITHERSBURG   MONTGOMERY VILLAGE  7001011   \n",
       "2          52    201281727  GAITHERSBURG   MONTGOMERY VILLAGE  7001011   \n",
       "3          53    201265326  GAITHERSBURG   MONTGOMERY VILLAGE  7001011   \n",
       "4          54    201090622  GAITHERSBURG           GERMANTOWN  7001011   \n",
       "\n",
       "            Crime Name1         Crime Name2             Crime Name3  Victims  \\\n",
       "0                 Other  All Other Offenses      POLICE INFORMATION        1   \n",
       "1  Crime Against Person            Fondling  SEX OFFENSE - FONDLING        1   \n",
       "2                 Other  All Other Offenses      POLICE INFORMATION        1   \n",
       "3                 Other  All Other Offenses      POLICE INFORMATION        1   \n",
       "4                 Other  All Other Offenses      POLICE INFORMATION        1   \n",
       "\n",
       "                       Place  ...  Total Laborforce  Total Unemployed  \\\n",
       "0  Residence - Single Family  ...            1067.0              31.0   \n",
       "1  Residence - Single Family  ...            1067.0              31.0   \n",
       "2           Residence - Yard  ...            1067.0              31.0   \n",
       "3  Residence - Single Family  ...            1067.0              31.0   \n",
       "4             Street - Other  ...            1067.0              31.0   \n",
       "\n",
       "          Start_Date_Time             Location  Longitude   Latitude  \\\n",
       "0  12/06/2019 09:16:00 PM  (39.2006, -77.1996) -77.199620  39.200626   \n",
       "1  04/13/2019 02:00:00 AM  (39.1977, -77.1997) -77.199669  39.197675   \n",
       "2  03/13/2020 09:09:00 AM  (39.2081, -77.1748) -77.174806  39.208137   \n",
       "3  11/15/2019 04:33:00 PM  (39.2025, -77.1848) -77.184766  39.202456   \n",
       "4  07/22/2016 10:27:00 PM   (39.205, -77.1643) -77.164342  39.204973   \n",
       "\n",
       "   High School %  Bachelors %  Public Transportation %  Unemployed %  \n",
       "0       0.083714     0.270167                 0.049515      0.029053  \n",
       "1       0.083714     0.270167                 0.049515      0.029053  \n",
       "2       0.083714     0.270167                 0.049515      0.029053  \n",
       "3       0.083714     0.270167                 0.049515      0.029053  \n",
       "4       0.083714     0.270167                 0.049515      0.029053  \n",
       "\n",
       "[5 rows x 28 columns]"
      ]
     },
     "execution_count": 21,
     "metadata": {},
     "output_type": "execute_result"
    }
   ],
   "source": [
    "data.head()"
   ]
  },
  {
   "cell_type": "code",
   "execution_count": 22,
   "metadata": {},
   "outputs": [
    {
     "data": {
      "text/plain": [
       "Unnamed: 0                   0\n",
       "Incident ID                  0\n",
       "City                       828\n",
       "Police District Name         0\n",
       "Block                        0\n",
       "Crime Name1                165\n",
       "Crime Name2                165\n",
       "Crime Name3                165\n",
       "Victims                      0\n",
       "Place                        0\n",
       "Pop                          0\n",
       "Income                       0\n",
       "Age                          0\n",
       "Educational Attainment       0\n",
       "Bachelors                    0\n",
       "High School                  0\n",
       "Means of Transportation      0\n",
       "Public Transportation        0\n",
       "Total Laborforce             0\n",
       "Total Unemployed             0\n",
       "Start_Date_Time              0\n",
       "Location                     0\n",
       "Longitude                    0\n",
       "Latitude                     0\n",
       "High School %                0\n",
       "Bachelors %                  0\n",
       "Public Transportation %      0\n",
       "Unemployed %                 0\n",
       "dtype: int64"
      ]
     },
     "execution_count": 22,
     "metadata": {},
     "output_type": "execute_result"
    }
   ],
   "source": [
    "data.isnull().sum()"
   ]
  },
  {
   "cell_type": "code",
   "execution_count": 23,
   "metadata": {},
   "outputs": [],
   "source": [
    "data = data.drop('City',1)"
   ]
  },
  {
   "cell_type": "code",
   "execution_count": 24,
   "metadata": {},
   "outputs": [],
   "source": [
    "data = data[~data['Crime Name1'].isnull()]"
   ]
  },
  {
   "cell_type": "code",
   "execution_count": 25,
   "metadata": {},
   "outputs": [
    {
     "data": {
      "text/plain": [
       "Unnamed: 0                 0\n",
       "Incident ID                0\n",
       "Police District Name       0\n",
       "Block                      0\n",
       "Crime Name1                0\n",
       "Crime Name2                0\n",
       "Crime Name3                0\n",
       "Victims                    0\n",
       "Place                      0\n",
       "Pop                        0\n",
       "Income                     0\n",
       "Age                        0\n",
       "Educational Attainment     0\n",
       "Bachelors                  0\n",
       "High School                0\n",
       "Means of Transportation    0\n",
       "Public Transportation      0\n",
       "Total Laborforce           0\n",
       "Total Unemployed           0\n",
       "Start_Date_Time            0\n",
       "Location                   0\n",
       "Longitude                  0\n",
       "Latitude                   0\n",
       "High School %              0\n",
       "Bachelors %                0\n",
       "Public Transportation %    0\n",
       "Unemployed %               0\n",
       "dtype: int64"
      ]
     },
     "execution_count": 25,
     "metadata": {},
     "output_type": "execute_result"
    }
   ],
   "source": [
    "data.isnull().sum()"
   ]
  },
  {
   "cell_type": "code",
   "execution_count": 26,
   "metadata": {},
   "outputs": [],
   "source": [
    "data = data.drop(['Unnamed: 0','Educational Attainment','Bachelors','High School','Means of Transportation','Public Transportation',\n",
    "          'Total Laborforce','Total Unemployed','Longitude','Latitude','Crime Name1','Crime Name3'],1)"
   ]
  },
  {
   "cell_type": "code",
   "execution_count": 27,
   "metadata": {},
   "outputs": [
    {
     "data": {
      "text/plain": [
       "Index(['Incident ID', 'Police District Name', 'Block', 'Crime Name2',\n",
       "       'Victims', 'Place', 'Pop', 'Income', 'Age', 'Start_Date_Time',\n",
       "       'Location', 'High School %', 'Bachelors %', 'Public Transportation %',\n",
       "       'Unemployed %'],\n",
       "      dtype='object')"
      ]
     },
     "execution_count": 27,
     "metadata": {},
     "output_type": "execute_result"
    }
   ],
   "source": [
    "data.columns"
   ]
  },
  {
   "cell_type": "code",
   "execution_count": 28,
   "metadata": {},
   "outputs": [
    {
     "data": {
      "text/plain": [
       "(235203, 15)"
      ]
     },
     "execution_count": 28,
     "metadata": {},
     "output_type": "execute_result"
    }
   ],
   "source": [
    "data.shape"
   ]
  },
  {
   "cell_type": "code",
   "execution_count": 29,
   "metadata": {},
   "outputs": [],
   "source": [
    "data = pd.get_dummies(data, prefix = ['Place','Police District Name'], columns = ['Place','Police District Name'])"
   ]
  },
  {
   "cell_type": "code",
   "execution_count": 30,
   "metadata": {},
   "outputs": [
    {
     "data": {
      "text/plain": [
       "(235203, 105)"
      ]
     },
     "execution_count": 30,
     "metadata": {},
     "output_type": "execute_result"
    }
   ],
   "source": [
    "data.shape"
   ]
  },
  {
   "cell_type": "code",
   "execution_count": 31,
   "metadata": {},
   "outputs": [],
   "source": [
    "from sklearn import preprocessing\n",
    "\n",
    "le = preprocessing.LabelEncoder()\n",
    "data['Crime Name2'] = le.fit_transform(data['Crime Name2'])"
   ]
  },
  {
   "cell_type": "code",
   "execution_count": 52,
   "metadata": {},
   "outputs": [
    {
     "data": {
      "text/plain": [
       "1     54639\n",
       "14    21011\n",
       "49    20699\n",
       "47    15516\n",
       "10    14288\n",
       "12    12346\n",
       "46    12145\n",
       "2     10698\n",
       "50     8815\n",
       "6      6798\n",
       "32     6257\n",
       "27     4896\n",
       "18     4622\n",
       "11     4492\n",
       "33     4386\n",
       "51     4057\n",
       "52     3378\n",
       "8      3358\n",
       "0      3037\n",
       "44     2817\n",
       "43     2753\n",
       "7      2140\n",
       "13     1712\n",
       "53     1630\n",
       "28     1517\n",
       "22      972\n",
       "20      740\n",
       "19      596\n",
       "39      506\n",
       "23      388\n",
       "21      355\n",
       "16      355\n",
       "29      352\n",
       "42      321\n",
       "5       304\n",
       "45      263\n",
       "17      256\n",
       "3       248\n",
       "36      219\n",
       "40      190\n",
       "35      180\n",
       "55      180\n",
       "48      178\n",
       "41      150\n",
       "15       86\n",
       "38       83\n",
       "34       83\n",
       "31       51\n",
       "24       48\n",
       "25       36\n",
       "9        31\n",
       "4        15\n",
       "30        7\n",
       "26        1\n",
       "37        1\n",
       "54        1\n",
       "Name: Crime Name2, dtype: int64"
      ]
     },
     "execution_count": 52,
     "metadata": {},
     "output_type": "execute_result"
    }
   ],
   "source": [
    "data['Crime Name2'].value_counts()"
   ]
  },
  {
   "cell_type": "code",
   "execution_count": 53,
   "metadata": {},
   "outputs": [
    {
     "data": {
      "text/plain": [
       "55"
      ]
     },
     "execution_count": 53,
     "metadata": {},
     "output_type": "execute_result"
    }
   ],
   "source": [
    "max(data['Crime Name2'])"
   ]
  },
  {
   "cell_type": "code",
   "execution_count": 54,
   "metadata": {},
   "outputs": [],
   "source": [
    "for i, rowseries in data.iterrows():\n",
    "    if data.at[i,'Crime Name2'] == 0:\n",
    "        data.at[i,'Crime Name2'] = 56"
   ]
  },
  {
   "cell_type": "code",
   "execution_count": 55,
   "metadata": {},
   "outputs": [
    {
     "data": {
      "text/plain": [
       "1     54639\n",
       "14    21011\n",
       "49    20699\n",
       "47    15516\n",
       "10    14288\n",
       "12    12346\n",
       "46    12145\n",
       "2     10698\n",
       "50     8815\n",
       "6      6798\n",
       "32     6257\n",
       "27     4896\n",
       "18     4622\n",
       "11     4492\n",
       "33     4386\n",
       "51     4057\n",
       "52     3378\n",
       "8      3358\n",
       "56     3037\n",
       "44     2817\n",
       "43     2753\n",
       "7      2140\n",
       "13     1712\n",
       "53     1630\n",
       "28     1517\n",
       "22      972\n",
       "20      740\n",
       "19      596\n",
       "39      506\n",
       "23      388\n",
       "21      355\n",
       "16      355\n",
       "29      352\n",
       "42      321\n",
       "5       304\n",
       "45      263\n",
       "17      256\n",
       "3       248\n",
       "36      219\n",
       "40      190\n",
       "35      180\n",
       "55      180\n",
       "48      178\n",
       "41      150\n",
       "15       86\n",
       "38       83\n",
       "34       83\n",
       "31       51\n",
       "24       48\n",
       "25       36\n",
       "9        31\n",
       "4        15\n",
       "30        7\n",
       "26        1\n",
       "54        1\n",
       "37        1\n",
       "Name: Crime Name2, dtype: int64"
      ]
     },
     "execution_count": 55,
     "metadata": {},
     "output_type": "execute_result"
    }
   ],
   "source": [
    "data['Crime Name2'].value_counts()"
   ]
  },
  {
   "cell_type": "code",
   "execution_count": 78,
   "metadata": {},
   "outputs": [],
   "source": [
    "features = data[data.columns[~data.columns.isin(['Incident ID','Block','Crime Name2','Location','Start_Date_Time'])]]"
   ]
  },
  {
   "cell_type": "code",
   "execution_count": 79,
   "metadata": {},
   "outputs": [
    {
     "data": {
      "text/plain": [
       "(235203, 100)"
      ]
     },
     "execution_count": 79,
     "metadata": {},
     "output_type": "execute_result"
    }
   ],
   "source": [
    "features.shape"
   ]
  },
  {
   "cell_type": "code",
   "execution_count": 80,
   "metadata": {},
   "outputs": [],
   "source": [
    "labels = np.array(data['Crime Name2'])\n",
    "features1 = np.array(features)"
   ]
  },
  {
   "cell_type": "code",
   "execution_count": 81,
   "metadata": {},
   "outputs": [],
   "source": [
    "from sklearn.model_selection import train_test_split\n",
    "train, test, train_labels, test_labels = train_test_split(features1,labels,test_size=0.25,random_state=4)"
   ]
  },
  {
   "cell_type": "code",
   "execution_count": 60,
   "metadata": {},
   "outputs": [
    {
     "data": {
      "text/plain": [
       "(176402, 100)"
      ]
     },
     "execution_count": 60,
     "metadata": {},
     "output_type": "execute_result"
    }
   ],
   "source": [
    "train.shape"
   ]
  },
  {
   "cell_type": "code",
   "execution_count": 61,
   "metadata": {},
   "outputs": [
    {
     "data": {
      "text/plain": [
       "(58801, 100)"
      ]
     },
     "execution_count": 61,
     "metadata": {},
     "output_type": "execute_result"
    }
   ],
   "source": [
    "test.shape"
   ]
  },
  {
   "cell_type": "code",
   "execution_count": 62,
   "metadata": {},
   "outputs": [
    {
     "name": "stderr",
     "output_type": "stream",
     "text": [
      "[Parallel(n_jobs=-1)]: Using backend ThreadingBackend with 28 concurrent workers.\n",
      "[Parallel(n_jobs=-1)]: Done 100 out of 100 | elapsed:    3.7s finished\n"
     ]
    },
    {
     "data": {
      "text/plain": [
       "RandomForestClassifier(bootstrap=True, ccp_alpha=0.0, class_weight=None,\n",
       "                       criterion='gini', max_depth=None, max_features='sqrt',\n",
       "                       max_leaf_nodes=None, max_samples=None,\n",
       "                       min_impurity_decrease=0.0, min_impurity_split=None,\n",
       "                       min_samples_leaf=1, min_samples_split=2,\n",
       "                       min_weight_fraction_leaf=0.0, n_estimators=100,\n",
       "                       n_jobs=-1, oob_score=False, random_state=4, verbose=1,\n",
       "                       warm_start=False)"
      ]
     },
     "execution_count": 62,
     "metadata": {},
     "output_type": "execute_result"
    }
   ],
   "source": [
    "from sklearn.ensemble import RandomForestClassifier\n",
    "\n",
    "model1 = RandomForestClassifier(n_estimators=100,\n",
    "                               random_state=4,\n",
    "                               max_features='sqrt',\n",
    "                               n_jobs=-1, verbose=1)\n",
    "model1.fit(train,train_labels)"
   ]
  },
  {
   "cell_type": "code",
   "execution_count": 68,
   "metadata": {},
   "outputs": [
    {
     "name": "stderr",
     "output_type": "stream",
     "text": [
      "[Parallel(n_jobs=28)]: Using backend ThreadingBackend with 28 concurrent workers.\n"
     ]
    },
    {
     "name": "stdout",
     "output_type": "stream",
     "text": [
      "Mean Absolute Error: 14.22 percent\n"
     ]
    },
    {
     "name": "stderr",
     "output_type": "stream",
     "text": [
      "[Parallel(n_jobs=28)]: Done 100 out of 100 | elapsed:    0.6s finished\n"
     ]
    }
   ],
   "source": [
    "predictions = model1.predict(test)\n",
    "errors = abs(predictions - test_labels)\n",
    "mae = round((np.mean(errors)),2)\n",
    "print(\"Mean Absolute Error: \" + str(mae) + \" percent\")"
   ]
  },
  {
   "cell_type": "code",
   "execution_count": 72,
   "metadata": {},
   "outputs": [
    {
     "name": "stdout",
     "output_type": "stream",
     "text": [
      "Accuracy: 97.16 percent\n"
     ]
    }
   ],
   "source": [
    "mape = abs((test_labels - predictions)/test_labels)\n",
    "accuracy = 100 - np.mean(mape)\n",
    "accuracy = round(accuracy,2)\n",
    "print(\"Accuracy: \" + str(accuracy) + \" percent\")"
   ]
  },
  {
   "cell_type": "code",
   "execution_count": 85,
   "metadata": {},
   "outputs": [
    {
     "name": "stdout",
     "output_type": "stream",
     "text": [
      "Variable: Victims                                  Importance: 0.039716334426640396\n",
      "Variable: Pop                                      Importance: 0.05171503893627962\n",
      "Variable: Income                                   Importance: 0.053874931077437675\n",
      "Variable: Age                                      Importance: 0.05249558972281158\n",
      "Variable: High School %                            Importance: 0.05148241241261112\n",
      "Variable: Bachelors %                              Importance: 0.05156057334365635\n",
      "Variable: Public Transportation %                  Importance: 0.05434739237981375\n",
      "Variable: Unemployed %                             Importance: 0.04855009228182387\n",
      "Variable: Place_Air/Bus/Train/Metro Terminal       Importance: 0.0019654008044331372\n",
      "Variable: Place_Auto Dealership                    Importance: 0.001915085627811429\n",
      "Variable: Place_Auto Repair                        Importance: 0.0014802263855933486\n",
      "Variable: Place_Bank - ATM                         Importance: 0.0038859838083100356\n",
      "Variable: Place_Bank/S&L/Credit Union              Importance: 0.0037288404618635233\n",
      "Variable: Place_Bar/Night Club                     Importance: 0.002504193098719763\n",
      "Variable: Place_Check Cashing Est.                 Importance: 0.0006487774803845173\n",
      "Variable: Place_Church/Synagogue/Temple            Importance: 0.0024731510581141526\n",
      "Variable: Place_Commercial - Industrial park       Importance: 0.0015425396593694107\n",
      "Variable: Place_Commercial - Office Building       Importance: 0.0044288649632060655\n",
      "Variable: Place_Construction Site                  Importance: 0.002449241781547001\n",
      "Variable: Place_Convenience Store                  Importance: 0.004765272195881574\n",
      "Variable: Place_Doctor/Dentist/Vet Office          Importance: 0.0023043648850397305\n",
      "Variable: Place_Field/ Open Space                  Importance: 0.0014629854347607547\n",
      "Variable: Place_Gas Station                        Importance: 0.0034439202244885615\n",
      "Variable: Place_Golf Course                        Importance: 0.000494642260827613\n",
      "Variable: Place_Government Building                Importance: 0.012083859266175447\n",
      "Variable: Place_Grocery/Supermarket                Importance: 0.013345656991524053\n",
      "Variable: Place_Hospital/Emergency Care Center     Importance: 0.003734838676429191\n",
      "Variable: Place_Hotel/Motel/Etc.                   Importance: 0.0019552773110751115\n",
      "Variable: Place_Jail/Prison                        Importance: 0.0008820079475174987\n",
      "Variable: Place_Lake/Waterway                      Importance: 0.00023233372212568974\n",
      "Variable: Place_Laundromat                         Importance: 0.0008024517201981595\n",
      "Variable: Place_Library                            Importance: 0.0008781596356125476\n",
      "Variable: Place_Liquor Store - Beer & Wine         Importance: 0.0025364753403688284\n",
      "Variable: Place_Liquor Store - County              Importance: 0.001338079066436645\n",
      "Variable: Place_Nursery                            Importance: 0.00023428663015430734\n",
      "Variable: Place_Other/Unknown                      Importance: 0.025282045046200175\n",
      "Variable: Place_Park                               Importance: 0.004286655135886778\n",
      "Variable: Place_Parking Garage - Commercial        Importance: 0.003665232787761751\n",
      "Variable: Place_Parking Garage - County            Importance: 0.00206767693920362\n",
      "Variable: Place_Parking Garage - Metro             Importance: 0.0007249193809469064\n",
      "Variable: Place_Parking Garage - Other             Importance: 0.0015182970702280773\n",
      "Variable: Place_Parking Garage - Residential       Importance: 0.0048547157143639845\n",
      "Variable: Place_Parking Lot - Church               Importance: 0.001560487650403514\n",
      "Variable: Place_Parking Lot - Commercial           Importance: 0.007847320894292964\n",
      "Variable: Place_Parking Lot - County               Importance: 0.002259344398240798\n",
      "Variable: Place_Parking Lot - Metro                Importance: 0.0009082198034065398\n",
      "Variable: Place_Parking Lot - Other                Importance: 0.004264264276808238\n",
      "Variable: Place_Parking Lot - Park & Ride          Importance: 0.0006598468123657384\n",
      "Variable: Place_Parking Lot - Rec Center           Importance: 0.0013353184920928348\n",
      "Variable: Place_Parking Lot - Residential          Importance: 0.025674682171594392\n",
      "Variable: Place_Parking Lot - School               Importance: 0.002639954411798193\n",
      "Variable: Place_Pawn Shop                          Importance: 0.00033828634607383726\n",
      "Variable: Place_Pedestrian Tunnel                  Importance: 0.00010116149186222391\n",
      "Variable: Place_Pool                               Importance: 0.0015298759468838137\n",
      "Variable: Place_Recreation Center                  Importance: 0.003576529178742037\n",
      "Variable: Place_Rental Storage Facility            Importance: 0.001450691660786731\n",
      "Variable: Place_Residence - Apartment/Condo        Importance: 0.0160862837880066\n",
      "Variable: Place_Residence - Apt Ofc/Storage        Importance: 0.0030403611768268844\n",
      "Variable: Place_Residence - Carport                Importance: 0.0012922641770785619\n",
      "Variable: Place_Residence - Driveway               Importance: 0.05783729233253612\n",
      "Variable: Place_Residence - Garage                 Importance: 0.0035168514310823565\n",
      "Variable: Place_Residence - Mobile Home            Importance: 0.0003003165359796376\n",
      "Variable: Place_Residence - Nursing Home           Importance: 0.003751609237173512\n",
      "Variable: Place_Residence - Other                  Importance: 0.007492145865592898\n",
      "Variable: Place_Residence - Shed                   Importance: 0.002819801697206762\n",
      "Variable: Place_Residence - Single Family          Importance: 0.02515219703321119\n",
      "Variable: Place_Residence - Yard                   Importance: 0.006266645754032514\n",
      "Variable: Place_Residence -Townhouse/Duplex        Importance: 0.009508743709584535\n",
      "Variable: Place_Restaurant                         Importance: 0.004980071898722521\n",
      "Variable: Place_Retail - Appliances/Electronics    Importance: 0.0032779317727029958\n",
      "Variable: Place_Retail - Beauty/Barber Shop        Importance: 0.001403170934924766\n",
      "Variable: Place_Retail - Clothing                  Importance: 0.010496925336090568\n",
      "Variable: Place_Retail - Department/Discount Store Importance: 0.034568401711427575\n",
      "Variable: Place_Retail - Drug Store/Pharmacy       Importance: 0.006462620195402198\n",
      "Variable: Place_Retail - Dry Cleaner               Importance: 0.0007994298707513935\n",
      "Variable: Place_Retail - Hardware                  Importance: 0.0026753324614837526\n",
      "Variable: Place_Retail - Jewelry                   Importance: 0.0007388343353378926\n",
      "Variable: Place_Retail - Mall                      Importance: 0.012162712755658837\n",
      "Variable: Place_Retail - Other                     Importance: 0.005109092338530465\n",
      "Variable: Place_Retail - Salon/Spa                 Importance: 0.0015972366117356443\n",
      "Variable: Place_Retail - Sporting Goods            Importance: 0.0014898812738912662\n",
      "Variable: Place_Retail - Video Store               Importance: 0.0002659360595328534\n",
      "Variable: Place_School/College                     Importance: 0.005322285764976483\n",
      "Variable: Place_Street - Alley                     Importance: 0.0027278472433631628\n",
      "Variable: Place_Street - Bus Stop                  Importance: 0.005359304025092917\n",
      "Variable: Place_Street - Commercial                Importance: 0.006182424845048486\n",
      "Variable: Place_Street - In vehicle                Importance: 0.10511471532664567\n",
      "Variable: Place_Street - Other                     Importance: 0.005839244304515664\n",
      "Variable: Place_Street - Residential               Importance: 0.017818472959529832\n",
      "Variable: Place_Theater                            Importance: 0.0005988500449298272\n",
      "Variable: Place_Wooded Area                        Importance: 0.0022200037331949643\n",
      "Variable: Police District Name_BETHESDA            Importance: 0.0073294291845156494\n",
      "Variable: Police District Name_CITY OF TAKOMA PARK Importance: 0.003384897319035953\n",
      "Variable: Police District Name_GERMANTOWN          Importance: 0.0058861772163326396\n",
      "Variable: Police District Name_MONTGOMERY VILLAGE  Importance: 0.007066347796562095\n",
      "Variable: Police District Name_OTHER               Importance: 1.1046308584743481e-05\n",
      "Variable: Police District Name_ROCKVILLE           Importance: 0.008723165019583675\n",
      "Variable: Police District Name_SILVER SPRING       Importance: 0.007834421920745896\n",
      "Variable: Police District Name_TAKOMA PARK         Importance: 1.3112572599332863e-05\n",
      "Variable: Police District Name_WHEATON             Importance: 0.007671357491253263\n"
     ]
    },
    {
     "data": {
      "text/plain": [
       "[None,\n",
       " None,\n",
       " None,\n",
       " None,\n",
       " None,\n",
       " None,\n",
       " None,\n",
       " None,\n",
       " None,\n",
       " None,\n",
       " None,\n",
       " None,\n",
       " None,\n",
       " None,\n",
       " None,\n",
       " None,\n",
       " None,\n",
       " None,\n",
       " None,\n",
       " None,\n",
       " None,\n",
       " None,\n",
       " None,\n",
       " None,\n",
       " None,\n",
       " None,\n",
       " None,\n",
       " None,\n",
       " None,\n",
       " None,\n",
       " None,\n",
       " None,\n",
       " None,\n",
       " None,\n",
       " None,\n",
       " None,\n",
       " None,\n",
       " None,\n",
       " None,\n",
       " None,\n",
       " None,\n",
       " None,\n",
       " None,\n",
       " None,\n",
       " None,\n",
       " None,\n",
       " None,\n",
       " None,\n",
       " None,\n",
       " None,\n",
       " None,\n",
       " None,\n",
       " None,\n",
       " None,\n",
       " None,\n",
       " None,\n",
       " None,\n",
       " None,\n",
       " None,\n",
       " None,\n",
       " None,\n",
       " None,\n",
       " None,\n",
       " None,\n",
       " None,\n",
       " None,\n",
       " None,\n",
       " None,\n",
       " None,\n",
       " None,\n",
       " None,\n",
       " None,\n",
       " None,\n",
       " None,\n",
       " None,\n",
       " None,\n",
       " None,\n",
       " None,\n",
       " None,\n",
       " None,\n",
       " None,\n",
       " None,\n",
       " None,\n",
       " None,\n",
       " None,\n",
       " None,\n",
       " None,\n",
       " None,\n",
       " None,\n",
       " None,\n",
       " None,\n",
       " None,\n",
       " None,\n",
       " None,\n",
       " None,\n",
       " None,\n",
       " None,\n",
       " None,\n",
       " None,\n",
       " None]"
      ]
     },
     "execution_count": 85,
     "metadata": {},
     "output_type": "execute_result"
    }
   ],
   "source": [
    "importances = list(model1.feature_importances_)\n",
    "feature_list = list(features.columns)\n",
    "feature_importances = [(feature, importance) for feature, importance in zip(feature_list,importances)]\n",
    "[print(\"Variable: {:40} Importance: {}\".format(*pair)) for pair in feature_importances]"
   ]
  },
  {
   "cell_type": "code",
   "execution_count": 74,
   "metadata": {},
   "outputs": [
    {
     "name": "stdout",
     "output_type": "stream",
     "text": [
      "Fitting 3 folds for each of 10 candidates, totalling 30 fits\n"
     ]
    },
    {
     "name": "stderr",
     "output_type": "stream",
     "text": [
      "/opt/conda/envs/rapids/lib/python3.6/site-packages/sklearn/model_selection/_split.py:667: UserWarning: The least populated class in y has only 1 members, which is less than n_splits=3.\n",
      "  % (min_groups, self.n_splits)), UserWarning)\n",
      "[Parallel(n_jobs=-1)]: Using backend LokyBackend with 28 concurrent workers.\n",
      "[Parallel(n_jobs=-1)]: Done   6 out of  30 | elapsed:   42.5s remaining:  2.8min\n",
      "[Parallel(n_jobs=-1)]: Done  30 out of  30 | elapsed:  4.9min finished\n"
     ]
    },
    {
     "data": {
      "text/plain": [
       "RandomizedSearchCV(cv=3, error_score=nan,\n",
       "                   estimator=RandomForestClassifier(bootstrap=True,\n",
       "                                                    ccp_alpha=0.0,\n",
       "                                                    class_weight=None,\n",
       "                                                    criterion='gini',\n",
       "                                                    max_depth=None,\n",
       "                                                    max_features='auto',\n",
       "                                                    max_leaf_nodes=None,\n",
       "                                                    max_samples=None,\n",
       "                                                    min_impurity_decrease=0.0,\n",
       "                                                    min_impurity_split=None,\n",
       "                                                    min_samples_leaf=1,\n",
       "                                                    min_samples_split=2,\n",
       "                                                    min_weight_fraction_leaf=0.0,\n",
       "                                                    n_estimators=100,\n",
       "                                                    n_jobs...\n",
       "                                                           11, 11, 11, 11, 11,\n",
       "                                                           11, 12, 12, 12, 12, ...],\n",
       "                                        'min_samples_split': [2, 5, 10],\n",
       "                                        'n_estimators': array([ 10,  13,  17,  21,  25,  29,  33,  37,  41,  44,  48,  52,  56,\n",
       "        60,  64,  68,  72,  75,  79,  83,  87,  91,  95,  99, 103, 106,\n",
       "       110, 114, 118, 122, 126, 130, 134, 137, 141, 145, 149, 153, 157,\n",
       "       161, 165, 168, 172, 176, 180, 184, 188, 192, 196, 200])},\n",
       "                   pre_dispatch='2*n_jobs', random_state=4, refit=True,\n",
       "                   return_train_score=False, scoring=None, verbose=1)"
      ]
     },
     "execution_count": 74,
     "metadata": {},
     "output_type": "execute_result"
    }
   ],
   "source": [
    "from sklearn.model_selection import RandomizedSearchCV\n",
    "\n",
    "param_grid = {\n",
    "    'n_estimators': np.linspace(10,200).astype(int),\n",
    "    'max_depth': [None] + list(np.linspace(3,20).astype(int)),\n",
    "    'max_features': ['auto','sqrt', None] + list(np.arange(0.5,1,0.1)),\n",
    "    'max_leaf_nodes': [None] + list(np.linspace(10,50,500).astype(int)),\n",
    "    'min_samples_split': [2,5,10],\n",
    "    'bootstrap': [True,False]\n",
    "}\n",
    "\n",
    "estimator = RandomForestClassifier(random_state=4)\n",
    "\n",
    "rs = RandomizedSearchCV(estimator, param_grid, n_jobs= -1,cv=3,\n",
    "                       n_iter = 10, verbose = 1, random_state=4)\n",
    "\n",
    "rs.fit(train, train_labels)"
   ]
  },
  {
   "cell_type": "code",
   "execution_count": 75,
   "metadata": {},
   "outputs": [
    {
     "name": "stdout",
     "output_type": "stream",
     "text": [
      "{'n_estimators': 110, 'min_samples_split': 10, 'max_leaf_nodes': 37, 'max_features': None, 'max_depth': 19, 'bootstrap': False}\n"
     ]
    }
   ],
   "source": [
    "print(rs.best_params_)"
   ]
  },
  {
   "cell_type": "code",
   "execution_count": 86,
   "metadata": {},
   "outputs": [],
   "source": [
    "best_model = rs.best_estimator_"
   ]
  },
  {
   "cell_type": "code",
   "execution_count": 87,
   "metadata": {},
   "outputs": [
    {
     "data": {
      "text/plain": [
       "RandomForestClassifier(bootstrap=False, ccp_alpha=0.0, class_weight=None,\n",
       "                       criterion='gini', max_depth=19, max_features=None,\n",
       "                       max_leaf_nodes=37, max_samples=None,\n",
       "                       min_impurity_decrease=0.0, min_impurity_split=None,\n",
       "                       min_samples_leaf=1, min_samples_split=10,\n",
       "                       min_weight_fraction_leaf=0.0, n_estimators=110,\n",
       "                       n_jobs=None, oob_score=False, random_state=4, verbose=0,\n",
       "                       warm_start=False)"
      ]
     },
     "execution_count": 87,
     "metadata": {},
     "output_type": "execute_result"
    }
   ],
   "source": [
    "best_model.fit(train,train_labels)"
   ]
  },
  {
   "cell_type": "code",
   "execution_count": 88,
   "metadata": {},
   "outputs": [
    {
     "name": "stdout",
     "output_type": "stream",
     "text": [
      "Mean Absolute Error: 15.22 percent\n"
     ]
    }
   ],
   "source": [
    "predictions2 = best_model.predict(test)\n",
    "errors2 = abs(predictions2 - test_labels)\n",
    "mae2 = round((np.mean(errors2)),2)\n",
    "print(\"Mean Absolute Error: \" + str(mae2) + \" percent\")"
   ]
  },
  {
   "cell_type": "code",
   "execution_count": 90,
   "metadata": {},
   "outputs": [
    {
     "name": "stdout",
     "output_type": "stream",
     "text": [
      "Accuracy: 97.8 percent\n"
     ]
    }
   ],
   "source": [
    "mape2 = abs((test_labels - predictions2)/test_labels)\n",
    "accuracy2 = 100 - np.mean(mape2)\n",
    "accuracy2 = round(accuracy2,2)\n",
    "print(\"Accuracy: \" + str(accuracy2) + \" percent\")"
   ]
  },
  {
   "cell_type": "code",
   "execution_count": null,
   "metadata": {},
   "outputs": [],
   "source": []
  },
  {
   "cell_type": "code",
   "execution_count": null,
   "metadata": {},
   "outputs": [],
   "source": []
  },
  {
   "cell_type": "code",
   "execution_count": null,
   "metadata": {},
   "outputs": [],
   "source": []
  },
  {
   "cell_type": "code",
   "execution_count": null,
   "metadata": {},
   "outputs": [],
   "source": []
  },
  {
   "cell_type": "code",
   "execution_count": null,
   "metadata": {},
   "outputs": [],
   "source": []
  },
  {
   "cell_type": "code",
   "execution_count": null,
   "metadata": {},
   "outputs": [],
   "source": []
  },
  {
   "cell_type": "code",
   "execution_count": null,
   "metadata": {},
   "outputs": [],
   "source": []
  },
  {
   "cell_type": "code",
   "execution_count": null,
   "metadata": {},
   "outputs": [],
   "source": []
  },
  {
   "cell_type": "code",
   "execution_count": null,
   "metadata": {},
   "outputs": [],
   "source": []
  }
 ],
 "metadata": {
  "kernelspec": {
   "display_name": "Python 3",
   "language": "python",
   "name": "python3"
  },
  "language_info": {
   "codemirror_mode": {
    "name": "ipython",
    "version": 3
   },
   "file_extension": ".py",
   "mimetype": "text/x-python",
   "name": "python",
   "nbconvert_exporter": "python",
   "pygments_lexer": "ipython3",
   "version": "3.6.7"
  }
 },
 "nbformat": 4,
 "nbformat_minor": 4
}
