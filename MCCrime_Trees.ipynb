{
 "cells": [
  {
   "cell_type": "code",
   "execution_count": 515,
   "metadata": {},
   "outputs": [],
   "source": [
    "import pandas as pd\n",
    "import numpy as np\n",
    "import os\n",
    "import matplotlib.pyplot as plt\n",
    "import seaborn as sns\n",
    "plt.style.use('ggplot')"
   ]
  },
  {
   "cell_type": "code",
   "execution_count": 516,
   "metadata": {},
   "outputs": [
    {
     "data": {
      "text/plain": [
       "'/workspace'"
      ]
     },
     "execution_count": 516,
     "metadata": {},
     "output_type": "execute_result"
    }
   ],
   "source": [
    "os.getcwd()"
   ]
  },
  {
   "cell_type": "code",
   "execution_count": 517,
   "metadata": {},
   "outputs": [],
   "source": [
    "data = pd.read_csv('Crime_Clean.csv')"
   ]
  },
  {
   "cell_type": "code",
   "execution_count": 518,
   "metadata": {},
   "outputs": [
    {
     "data": {
      "text/html": [
       "<div>\n",
       "<style scoped>\n",
       "    .dataframe tbody tr th:only-of-type {\n",
       "        vertical-align: middle;\n",
       "    }\n",
       "\n",
       "    .dataframe tbody tr th {\n",
       "        vertical-align: top;\n",
       "    }\n",
       "\n",
       "    .dataframe thead th {\n",
       "        text-align: right;\n",
       "    }\n",
       "</style>\n",
       "<table border=\"1\" class=\"dataframe\">\n",
       "  <thead>\n",
       "    <tr style=\"text-align: right;\">\n",
       "      <th></th>\n",
       "      <th>Unnamed: 0</th>\n",
       "      <th>Incident ID</th>\n",
       "      <th>City</th>\n",
       "      <th>Police District Name</th>\n",
       "      <th>Block</th>\n",
       "      <th>Crime Name1</th>\n",
       "      <th>Crime Name2</th>\n",
       "      <th>Crime Name3</th>\n",
       "      <th>Victims</th>\n",
       "      <th>Place</th>\n",
       "      <th>...</th>\n",
       "      <th>Total Laborforce</th>\n",
       "      <th>Total Unemployed</th>\n",
       "      <th>Start_Date_Time</th>\n",
       "      <th>Location</th>\n",
       "      <th>Longitude</th>\n",
       "      <th>Latitude</th>\n",
       "      <th>High School %</th>\n",
       "      <th>Bachelors %</th>\n",
       "      <th>Public Transportation %</th>\n",
       "      <th>Unemployed %</th>\n",
       "    </tr>\n",
       "  </thead>\n",
       "  <tbody>\n",
       "    <tr>\n",
       "      <th>0</th>\n",
       "      <td>50</td>\n",
       "      <td>201268391</td>\n",
       "      <td>GAITHERSBURG</td>\n",
       "      <td>GERMANTOWN</td>\n",
       "      <td>7001011</td>\n",
       "      <td>Other</td>\n",
       "      <td>All Other Offenses</td>\n",
       "      <td>POLICE INFORMATION</td>\n",
       "      <td>1</td>\n",
       "      <td>Residence - Single Family</td>\n",
       "      <td>...</td>\n",
       "      <td>1067.0</td>\n",
       "      <td>31.0</td>\n",
       "      <td>12/06/2019 09:16:00 PM</td>\n",
       "      <td>(39.2006, -77.1996)</td>\n",
       "      <td>-77.199620</td>\n",
       "      <td>39.200626</td>\n",
       "      <td>0.083714</td>\n",
       "      <td>0.270167</td>\n",
       "      <td>0.049515</td>\n",
       "      <td>0.029053</td>\n",
       "    </tr>\n",
       "    <tr>\n",
       "      <th>1</th>\n",
       "      <td>51</td>\n",
       "      <td>201234989</td>\n",
       "      <td>GAITHERSBURG</td>\n",
       "      <td>MONTGOMERY VILLAGE</td>\n",
       "      <td>7001011</td>\n",
       "      <td>Crime Against Person</td>\n",
       "      <td>Fondling</td>\n",
       "      <td>SEX OFFENSE - FONDLING</td>\n",
       "      <td>1</td>\n",
       "      <td>Residence - Single Family</td>\n",
       "      <td>...</td>\n",
       "      <td>1067.0</td>\n",
       "      <td>31.0</td>\n",
       "      <td>04/13/2019 02:00:00 AM</td>\n",
       "      <td>(39.1977, -77.1997)</td>\n",
       "      <td>-77.199669</td>\n",
       "      <td>39.197675</td>\n",
       "      <td>0.083714</td>\n",
       "      <td>0.270167</td>\n",
       "      <td>0.049515</td>\n",
       "      <td>0.029053</td>\n",
       "    </tr>\n",
       "    <tr>\n",
       "      <th>2</th>\n",
       "      <td>52</td>\n",
       "      <td>201281727</td>\n",
       "      <td>GAITHERSBURG</td>\n",
       "      <td>MONTGOMERY VILLAGE</td>\n",
       "      <td>7001011</td>\n",
       "      <td>Other</td>\n",
       "      <td>All Other Offenses</td>\n",
       "      <td>POLICE INFORMATION</td>\n",
       "      <td>1</td>\n",
       "      <td>Residence - Yard</td>\n",
       "      <td>...</td>\n",
       "      <td>1067.0</td>\n",
       "      <td>31.0</td>\n",
       "      <td>03/13/2020 09:09:00 AM</td>\n",
       "      <td>(39.2081, -77.1748)</td>\n",
       "      <td>-77.174806</td>\n",
       "      <td>39.208137</td>\n",
       "      <td>0.083714</td>\n",
       "      <td>0.270167</td>\n",
       "      <td>0.049515</td>\n",
       "      <td>0.029053</td>\n",
       "    </tr>\n",
       "    <tr>\n",
       "      <th>3</th>\n",
       "      <td>53</td>\n",
       "      <td>201265326</td>\n",
       "      <td>GAITHERSBURG</td>\n",
       "      <td>MONTGOMERY VILLAGE</td>\n",
       "      <td>7001011</td>\n",
       "      <td>Other</td>\n",
       "      <td>All Other Offenses</td>\n",
       "      <td>POLICE INFORMATION</td>\n",
       "      <td>1</td>\n",
       "      <td>Residence - Single Family</td>\n",
       "      <td>...</td>\n",
       "      <td>1067.0</td>\n",
       "      <td>31.0</td>\n",
       "      <td>11/15/2019 04:33:00 PM</td>\n",
       "      <td>(39.2025, -77.1848)</td>\n",
       "      <td>-77.184766</td>\n",
       "      <td>39.202456</td>\n",
       "      <td>0.083714</td>\n",
       "      <td>0.270167</td>\n",
       "      <td>0.049515</td>\n",
       "      <td>0.029053</td>\n",
       "    </tr>\n",
       "    <tr>\n",
       "      <th>4</th>\n",
       "      <td>54</td>\n",
       "      <td>201090622</td>\n",
       "      <td>GAITHERSBURG</td>\n",
       "      <td>GERMANTOWN</td>\n",
       "      <td>7001011</td>\n",
       "      <td>Other</td>\n",
       "      <td>All Other Offenses</td>\n",
       "      <td>POLICE INFORMATION</td>\n",
       "      <td>1</td>\n",
       "      <td>Street - Other</td>\n",
       "      <td>...</td>\n",
       "      <td>1067.0</td>\n",
       "      <td>31.0</td>\n",
       "      <td>07/22/2016 10:27:00 PM</td>\n",
       "      <td>(39.205, -77.1643)</td>\n",
       "      <td>-77.164342</td>\n",
       "      <td>39.204973</td>\n",
       "      <td>0.083714</td>\n",
       "      <td>0.270167</td>\n",
       "      <td>0.049515</td>\n",
       "      <td>0.029053</td>\n",
       "    </tr>\n",
       "  </tbody>\n",
       "</table>\n",
       "<p>5 rows × 28 columns</p>\n",
       "</div>"
      ],
      "text/plain": [
       "   Unnamed: 0  Incident ID          City Police District Name    Block  \\\n",
       "0          50    201268391  GAITHERSBURG           GERMANTOWN  7001011   \n",
       "1          51    201234989  GAITHERSBURG   MONTGOMERY VILLAGE  7001011   \n",
       "2          52    201281727  GAITHERSBURG   MONTGOMERY VILLAGE  7001011   \n",
       "3          53    201265326  GAITHERSBURG   MONTGOMERY VILLAGE  7001011   \n",
       "4          54    201090622  GAITHERSBURG           GERMANTOWN  7001011   \n",
       "\n",
       "            Crime Name1         Crime Name2             Crime Name3  Victims  \\\n",
       "0                 Other  All Other Offenses      POLICE INFORMATION        1   \n",
       "1  Crime Against Person            Fondling  SEX OFFENSE - FONDLING        1   \n",
       "2                 Other  All Other Offenses      POLICE INFORMATION        1   \n",
       "3                 Other  All Other Offenses      POLICE INFORMATION        1   \n",
       "4                 Other  All Other Offenses      POLICE INFORMATION        1   \n",
       "\n",
       "                       Place  ...  Total Laborforce  Total Unemployed  \\\n",
       "0  Residence - Single Family  ...            1067.0              31.0   \n",
       "1  Residence - Single Family  ...            1067.0              31.0   \n",
       "2           Residence - Yard  ...            1067.0              31.0   \n",
       "3  Residence - Single Family  ...            1067.0              31.0   \n",
       "4             Street - Other  ...            1067.0              31.0   \n",
       "\n",
       "          Start_Date_Time             Location  Longitude   Latitude  \\\n",
       "0  12/06/2019 09:16:00 PM  (39.2006, -77.1996) -77.199620  39.200626   \n",
       "1  04/13/2019 02:00:00 AM  (39.1977, -77.1997) -77.199669  39.197675   \n",
       "2  03/13/2020 09:09:00 AM  (39.2081, -77.1748) -77.174806  39.208137   \n",
       "3  11/15/2019 04:33:00 PM  (39.2025, -77.1848) -77.184766  39.202456   \n",
       "4  07/22/2016 10:27:00 PM   (39.205, -77.1643) -77.164342  39.204973   \n",
       "\n",
       "   High School %  Bachelors %  Public Transportation %  Unemployed %  \n",
       "0       0.083714     0.270167                 0.049515      0.029053  \n",
       "1       0.083714     0.270167                 0.049515      0.029053  \n",
       "2       0.083714     0.270167                 0.049515      0.029053  \n",
       "3       0.083714     0.270167                 0.049515      0.029053  \n",
       "4       0.083714     0.270167                 0.049515      0.029053  \n",
       "\n",
       "[5 rows x 28 columns]"
      ]
     },
     "execution_count": 518,
     "metadata": {},
     "output_type": "execute_result"
    }
   ],
   "source": [
    "data.head()"
   ]
  },
  {
   "cell_type": "code",
   "execution_count": 519,
   "metadata": {},
   "outputs": [
    {
     "data": {
      "text/plain": [
       "235368"
      ]
     },
     "execution_count": 519,
     "metadata": {},
     "output_type": "execute_result"
    }
   ],
   "source": [
    "len(data)"
   ]
  },
  {
   "cell_type": "code",
   "execution_count": 520,
   "metadata": {},
   "outputs": [
    {
     "data": {
      "text/plain": [
       "Unnamed: 0                   0\n",
       "Incident ID                  0\n",
       "City                       828\n",
       "Police District Name         0\n",
       "Block                        0\n",
       "Crime Name1                165\n",
       "Crime Name2                165\n",
       "Crime Name3                165\n",
       "Victims                      0\n",
       "Place                        0\n",
       "Pop                          0\n",
       "Income                       0\n",
       "Age                          0\n",
       "Educational Attainment       0\n",
       "Bachelors                    0\n",
       "High School                  0\n",
       "Means of Transportation      0\n",
       "Public Transportation        0\n",
       "Total Laborforce             0\n",
       "Total Unemployed             0\n",
       "Start_Date_Time              0\n",
       "Location                     0\n",
       "Longitude                    0\n",
       "Latitude                     0\n",
       "High School %                0\n",
       "Bachelors %                  0\n",
       "Public Transportation %      0\n",
       "Unemployed %                 0\n",
       "dtype: int64"
      ]
     },
     "execution_count": 520,
     "metadata": {},
     "output_type": "execute_result"
    }
   ],
   "source": [
    "data.isnull().sum()"
   ]
  },
  {
   "cell_type": "code",
   "execution_count": 521,
   "metadata": {},
   "outputs": [],
   "source": [
    "data = data.drop('City',1)"
   ]
  },
  {
   "cell_type": "code",
   "execution_count": 522,
   "metadata": {},
   "outputs": [],
   "source": [
    "data = data[~data['Crime Name1'].isnull()]"
   ]
  },
  {
   "cell_type": "code",
   "execution_count": 523,
   "metadata": {},
   "outputs": [
    {
     "data": {
      "text/plain": [
       "Unnamed: 0                 0\n",
       "Incident ID                0\n",
       "Police District Name       0\n",
       "Block                      0\n",
       "Crime Name1                0\n",
       "Crime Name2                0\n",
       "Crime Name3                0\n",
       "Victims                    0\n",
       "Place                      0\n",
       "Pop                        0\n",
       "Income                     0\n",
       "Age                        0\n",
       "Educational Attainment     0\n",
       "Bachelors                  0\n",
       "High School                0\n",
       "Means of Transportation    0\n",
       "Public Transportation      0\n",
       "Total Laborforce           0\n",
       "Total Unemployed           0\n",
       "Start_Date_Time            0\n",
       "Location                   0\n",
       "Longitude                  0\n",
       "Latitude                   0\n",
       "High School %              0\n",
       "Bachelors %                0\n",
       "Public Transportation %    0\n",
       "Unemployed %               0\n",
       "dtype: int64"
      ]
     },
     "execution_count": 523,
     "metadata": {},
     "output_type": "execute_result"
    }
   ],
   "source": [
    "data.isnull().sum()"
   ]
  },
  {
   "cell_type": "code",
   "execution_count": 524,
   "metadata": {},
   "outputs": [],
   "source": [
    "data = data[data['Crime Name1'] != 'Other']"
   ]
  },
  {
   "cell_type": "code",
   "execution_count": 525,
   "metadata": {},
   "outputs": [],
   "source": [
    "data = data.drop(['Unnamed: 0','Educational Attainment','Bachelors','High School','Means of Transportation','Public Transportation',\n",
    "          'Total Laborforce','Total Unemployed','Longitude','Latitude', 'Crime Name1', 'Crime Name2'],1)"
   ]
  },
  {
   "cell_type": "code",
   "execution_count": 526,
   "metadata": {},
   "outputs": [
    {
     "data": {
      "text/plain": [
       "Index(['Incident ID', 'Police District Name', 'Block', 'Crime Name3',\n",
       "       'Victims', 'Place', 'Pop', 'Income', 'Age', 'Start_Date_Time',\n",
       "       'Location', 'High School %', 'Bachelors %', 'Public Transportation %',\n",
       "       'Unemployed %'],\n",
       "      dtype='object')"
      ]
     },
     "execution_count": 526,
     "metadata": {},
     "output_type": "execute_result"
    }
   ],
   "source": [
    "data.columns"
   ]
  },
  {
   "cell_type": "code",
   "execution_count": 527,
   "metadata": {},
   "outputs": [
    {
     "data": {
      "text/plain": [
       "(187827, 15)"
      ]
     },
     "execution_count": 527,
     "metadata": {},
     "output_type": "execute_result"
    }
   ],
   "source": [
    "data.shape"
   ]
  },
  {
   "cell_type": "code",
   "execution_count": 528,
   "metadata": {},
   "outputs": [
    {
     "data": {
      "text/plain": [
       "Street - In vehicle            27251\n",
       "Residence - Single Family      14706\n",
       "Residence - Apartment/Condo    14260\n",
       "Street - Residential           13815\n",
       "Other/Unknown                  11922\n",
       "Parking Lot - Residential      11026\n",
       "Residence - Driveway            8425\n",
       "Name: Place, dtype: int64"
      ]
     },
     "execution_count": 528,
     "metadata": {},
     "output_type": "execute_result"
    }
   ],
   "source": [
    "data['Place'].value_counts().loc[lambda x: x > 8000]"
   ]
  },
  {
   "cell_type": "code",
   "execution_count": 529,
   "metadata": {},
   "outputs": [],
   "source": [
    "places = data['Place'].value_counts().loc[lambda x: x > 8000]\n",
    "\n",
    "top_places = list(places.index.values)\n",
    "\n",
    "data = data[data['Place'].isin(top_places)]"
   ]
  },
  {
   "cell_type": "code",
   "execution_count": 530,
   "metadata": {},
   "outputs": [],
   "source": [
    "data = pd.get_dummies(data, prefix = ['Place','Police District Name'], columns = ['Place','Police District Name'])"
   ]
  },
  {
   "cell_type": "code",
   "execution_count": 531,
   "metadata": {},
   "outputs": [
    {
     "data": {
      "text/plain": [
       "(101405, 29)"
      ]
     },
     "execution_count": 531,
     "metadata": {},
     "output_type": "execute_result"
    }
   ],
   "source": [
    "data.shape"
   ]
  },
  {
   "cell_type": "code",
   "execution_count": 532,
   "metadata": {},
   "outputs": [
    {
     "data": {
      "text/plain": [
       "FRAUD - SWINDLE                                      789\n",
       "PUBLIC PEACE - DISORDERLY CONDUCT                    775\n",
       "OBSTRUCT GOVT - VIOLATION OF A COURT ORDER           735\n",
       "PUBLIC PEACE - HARASSING COMMUNICATION               728\n",
       "TRESPASSING                                          687\n",
       "RAPE - STRONG-ARM                                    618\n",
       "ALL OTHER OFFENSES                                   589\n",
       "DRUGS - MARIJUANA - SELL                             510\n",
       "DRIVING UNDER THE INFLUENCE DRUGS                    504\n",
       "FORGERY OF CHECKS                                    479\n",
       "UNAUTHORIZED USE OF VEHICLE (INCLUDES JOY RIDING)    477\n",
       "DRUGS - OPIUM OR DERIVATIVE - POSSESS                442\n",
       "ASSAULT - AGGRAVATED - FAMILY-OTHER WEAPON           411\n",
       "DRUGS - COCAINE - SELL                               377\n",
       "ASSAULT - AGGRAVATED - NON-FAMILY-OTHER WEAPON       366\n",
       "WEAPON - POSSESSION                                  363\n",
       "LIQUOR (DESCRIBE OFFENSE)                            314\n",
       "WEAPON - CONCEALED                                   312\n",
       "ASSAULT - AGGRAVATED - FAMILY-STRONG-ARM             311\n",
       "LARCENY - POSTAL                                     305\n",
       "Name: Crime Name3, dtype: int64"
      ]
     },
     "execution_count": 532,
     "metadata": {},
     "output_type": "execute_result"
    }
   ],
   "source": [
    "data['Crime Name3'].value_counts().loc[lambda x: (x < 1000) & (x > 300)]"
   ]
  },
  {
   "cell_type": "code",
   "execution_count": 533,
   "metadata": {},
   "outputs": [
    {
     "data": {
      "text/plain": [
       "LARCENY - FROM AUTO                       15916\n",
       "DRUGS - MARIJUANA - POSSESS               10427\n",
       "DRIVING UNDER THE INFLUENCE LIQUOR        10276\n",
       "ASSAULT - 2ND DEGREE                       6282\n",
       "DAMAGE PROPERTY - PRIVATE                  5946\n",
       "IDENTITY THEFT                             4236\n",
       "LARCENY (DESCRIBE OFFENSE)                 3252\n",
       "LARCENY - AUTO PARTS                       2913\n",
       "AUTO THEFT - VEHICLE THEFT                 2749\n",
       "FRAUD - ILLEGAL USE CREDIT CARDS           2236\n",
       "LARCENY - FROM BLDG                        2185\n",
       "BURGLARY - FORCED ENTRY-RESIDENTIAL        2095\n",
       "DAMAGE PROPERTY (DESCRIBE OFFENSE)         1722\n",
       "JUVENILE - RUNAWAY                         1693\n",
       "FRAUD (DESCRIBE OFFENSE)                   1491\n",
       "ASSAULT - SIMPLE                           1405\n",
       "FRAUD - IMPERSONATION                      1295\n",
       "BURGLARY - NO FORCED ENTRY-RESIDENTIAL     1294\n",
       "FRAUD - CONFIDENCE GAME                    1168\n",
       "DRUGS - NARCOTIC EQUIP - POSSESS           1072\n",
       "DRUGS - COCAINE - POSSESS                  1061\n",
       "LIQUOR - POSSESS                           1025\n",
       "Name: Crime Name3, dtype: int64"
      ]
     },
     "execution_count": 533,
     "metadata": {},
     "output_type": "execute_result"
    }
   ],
   "source": [
    "data['Crime Name3'].value_counts().loc[lambda x: x > 1000]"
   ]
  },
  {
   "cell_type": "code",
   "execution_count": 534,
   "metadata": {},
   "outputs": [],
   "source": [
    "import re"
   ]
  },
  {
   "cell_type": "code",
   "execution_count": 535,
   "metadata": {},
   "outputs": [],
   "source": [
    "pattern1 = r'.*\\s*(2ND DEGREE|SIMPLE|AGGRAVATED|INTIMIDATION)\\.*'\n",
    "pattern2 = r'.*\\s*(ARSON)\\.*'\n",
    "pattern3 = r'.*\\s*(ANIMAL CRUELTY)\\.*'\n",
    "pattern4 = r'.*\\s*(BRIBERY)\\.*'\n",
    "pattern5 = r'.*\\s*(BURGLARY)\\.*'\n",
    "pattern6 = r'.*\\s*(FORGERY|COUNTERFEITING)\\.*'\n",
    "pattern7 = r'.*\\s*(VANDALISM|DAMAGE)\\.*'\n",
    "pattern8 = r'.*\\s*(DRUGS)\\.*'\n",
    "pattern9 = r'.*\\s*(EXTORTION)\\.*'\n",
    "pattern10 = r'.*\\s*(EMBEZZLE)\\.*'\n",
    "pattern11 = r'.*\\s*(FRAUD|IDENTITY)\\.*'\n",
    "pattern12 = r'.*\\s*(GAMBLING|OPERATING|PROMOTING|TAMPERING)\\.*'\n",
    "pattern13 = r'.*\\s*(MURDER|MANSLAUGHTER|HOMICIDE)\\.*'\n",
    "pattern14 = r'.*\\s*(TRAFFICKING|SERVITUDE)\\.*'\n",
    "pattern15 = r'.*\\s*(MISSING|KIDNAPPING|ABDUCTION)\\.*'\n",
    "pattern16 = r'.*\\s*(LARCENY)\\.*'\n",
    "pattern17 = r'.*\\s*(AUTO THEFT)\\.*'\n",
    "pattern18 = r'.*\\s*(PORNOGRAPHY)\\.*'\n",
    "pattern19 = r'.*\\s*(PROSTITUTION)\\.*'\n",
    "pattern20 = r'.*\\s*(ROBBERY)\\.*'\n",
    "pattern21 = r'.*\\s*(RAPE)\\.*'\n",
    "pattern22 = r'.*\\s*(SEX)\\.*'\n",
    "pattern23 = r'.*\\s*(STOLEN)\\.*'\n",
    "pattern24 = r'.*\\s*(WEAPON)\\.*'\n",
    "pattern25 = r'.*\\s*(BAD CHECKS)\\.*'\n",
    "pattern26 = r'.*\\s*(LOITERING|CURFEW|VAGRANCY)\\.*'\n",
    "pattern27 = r'.*\\s*(DISORDERLY|PEACE|OBSTRUCT|UNAUTHORIZED)\\.*'\n",
    "pattern28 = r'.*\\s*(INFLUENCE)\\.*'\n",
    "pattern29 = r'.*\\s*(DRUNK)\\.*'\n",
    "pattern30 = r'.*\\s*(LIQUOR)\\.*'\n",
    "pattern31 = r'.*\\s*(PEEPING TOM)\\.*'\n",
    "pattern32 = r'.*\\s*(TRESPASSING)\\.*'\n",
    "pattern33 = r'.*\\s*(FAMILY OFFENSE)\\.*'\n",
    "pattern34 = r'.*\\s*(ALL OTHER OFFENSES)\\.*'\n",
    "\n",
    "for i, rowseries in data.iterrows():\n",
    "    if re.match(pattern1, data.at[i,'Crime Name3']):\n",
    "        data.at[i, 'Crime Type'] = 'Assault'\n",
    "    elif re.match(pattern2, data.at[i,'Crime Name3']):\n",
    "        data.at[i,'Crime Type'] = 'Arson'\n",
    "    elif re.match(pattern3, data.at[i,'Crime Name3']):\n",
    "        data.at[i,'Crime Type'] = 'Animal Cruelty'\n",
    "    elif re.match(pattern4, data.at[i,'Crime Name3']):\n",
    "        data.at[i,'Crime Type'] = 'Bribery'\n",
    "    elif re.match(pattern5, data.at[i,'Crime Name3']):\n",
    "        data.at[i, 'Crime Type'] = 'Burglary'\n",
    "    elif re.match(pattern6, data.at[i,'Crime Name3']):\n",
    "        data.at[i, 'Crime Type'] = 'Forgery'\n",
    "    elif re.match(pattern7, data.at[i,'Crime Name3']):\n",
    "        data.at[i,'Crime Type'] = 'Vandalism'\n",
    "    elif re.match(pattern8, data.at[i,'Crime Name3']):\n",
    "        data.at[i,'Crime Type'] = 'Drugs'\n",
    "    elif re.match(pattern9, data.at[i,'Crime Name3']):\n",
    "        data.at[i,'Crime Type'] = 'Embezzlement'\n",
    "    elif re.match(pattern10, data.at[i,'Crime Name3']):\n",
    "        data.at[i, 'Crime Type'] = 'Extortion'\n",
    "    elif re.match(pattern11, data.at[i,'Crime Name3']):\n",
    "        data.at[i, 'Crime Type'] = 'Fraud'\n",
    "    elif re.match(pattern12, data.at[i,'Crime Name3']):\n",
    "        data.at[i,'Crime Type'] = 'Gambling'\n",
    "    elif re.match(pattern13, data.at[i,'Crime Name3']):\n",
    "        data.at[i,'Crime Type'] = 'Homicide'\n",
    "    elif re.match(pattern14, data.at[i,'Crime Name3']):\n",
    "        data.at[i,'Crime Type'] = 'Human Trafficking'\n",
    "    elif re.match(pattern15, data.at[i,'Crime Name3']):\n",
    "        data.at[i, 'Crime Type'] = 'Kidnapping'\n",
    "    elif re.match(pattern16, data.at[i,'Crime Name3']):\n",
    "        data.at[i, 'Crime Type'] = 'Larceny'\n",
    "    elif re.match(pattern17, data.at[i,'Crime Name3']):\n",
    "        data.at[i,'Crime Type'] = 'Auto Theft'\n",
    "    elif re.match(pattern18, data.at[i,'Crime Name3']):\n",
    "        data.at[i,'Crime Type'] = 'Pornography'\n",
    "    elif re.match(pattern19, data.at[i,'Crime Name3']):\n",
    "        data.at[i,'Crime Type'] = 'Prostitution'\n",
    "    elif re.match(pattern20, data.at[i,'Crime Name3']):\n",
    "        data.at[i, 'Crime Type'] = 'Robbery'\n",
    "    elif re.match(pattern21, data.at[i,'Crime Name3']):\n",
    "        data.at[i, 'Crime Type'] = 'Rape'\n",
    "    elif re.match(pattern22, data.at[i,'Crime Name3']):\n",
    "        data.at[i,'Crime Type'] = 'Sexual Assault'\n",
    "    elif re.match(pattern23, data.at[i,'Crime Name3']):\n",
    "        data.at[i,'Crime Type'] = 'Stolen Property'\n",
    "    elif re.match(pattern24, data.at[i,'Crime Name3']):\n",
    "        data.at[i,'Crime Type'] = 'Weapon'\n",
    "    elif re.match(pattern25, data.at[i,'Crime Name3']):\n",
    "        data.at[i, 'Crime Type'] = 'Bad Checks'\n",
    "    elif re.match(pattern26, data.at[i,'Crime Name3']):\n",
    "        data.at[i, 'Crime Type'] = 'Curfew'\n",
    "    elif re.match(pattern27, data.at[i,'Crime Name3']):\n",
    "        data.at[i,'Crime Type'] = 'Disoderly Conduct'\n",
    "    elif re.match(pattern28, data.at[i,'Crime Name3']):\n",
    "        data.at[i,'Crime Type'] = 'DUI'\n",
    "    elif re.match(pattern29, data.at[i,'Crime Name3']):\n",
    "        data.at[i,'Crime Type'] = 'Drunk'\n",
    "    elif re.match(pattern30, data.at[i,'Crime Name3']):\n",
    "        data.at[i, 'Crime Type'] = 'Liquor'\n",
    "    elif re.match(pattern31, data.at[i,'Crime Name3']):\n",
    "        data.at[i, 'Crime Type'] = 'Peeping Tom'\n",
    "    elif re.match(pattern32, data.at[i,'Crime Name3']):\n",
    "        data.at[i,'Crime Type'] = 'Trespassing'\n",
    "    elif re.match(pattern33, data.at[i,'Crime Name3']):\n",
    "        data.at[i,'Crime Type'] = 'Family Offense'\n",
    "    elif re.match(pattern33, data.at[i,'Crime Name3']):\n",
    "        data.at[i,'Crime Type'] = 'All Other Offenses'\n",
    "    else:\n",
    "        data.at[i,'Crime Type'] = 'All Other Offenses'\n",
    "        \n",
    "                                            "
   ]
  },
  {
   "cell_type": "code",
   "execution_count": 536,
   "metadata": {},
   "outputs": [
    {
     "data": {
      "text/plain": [
       "Larceny               24817\n",
       "Drugs                 16318\n",
       "Fraud                 11640\n",
       "DUI                   10276\n",
       "Assault                9562\n",
       "Vandalism              7982\n",
       "Burglary               3713\n",
       "Disoderly Conduct      3443\n",
       "All Other Offenses     2978\n",
       "Auto Theft             2821\n",
       "Liquor                 1354\n",
       "Sexual Assault         1283\n",
       "Robbery                1166\n",
       "Weapon                  892\n",
       "Forgery                 854\n",
       "Trespassing             687\n",
       "Rape                    636\n",
       "Family Offense          361\n",
       "Extortion               165\n",
       "Stolen Property         161\n",
       "Arson                   126\n",
       "Embezzlement             65\n",
       "Homicide                 55\n",
       "Prostitution             21\n",
       "Drunk                    17\n",
       "Human Trafficking         9\n",
       "Kidnapping                3\n",
       "Name: Crime Type, dtype: int64"
      ]
     },
     "execution_count": 536,
     "metadata": {},
     "output_type": "execute_result"
    }
   ],
   "source": [
    "data['Crime Type'].value_counts()"
   ]
  },
  {
   "cell_type": "code",
   "execution_count": 537,
   "metadata": {},
   "outputs": [
    {
     "data": {
      "text/plain": [
       "JUVENILE - RUNAWAY                      1693\n",
       "ALL OTHER OFFENSES                       589\n",
       "FUGITIVE FROM JUSTICE (OUT OF STATE)     111\n",
       "FUGITIVE FROM MD JURISDICTION            110\n",
       "Name: Crime Name3, dtype: int64"
      ]
     },
     "execution_count": 537,
     "metadata": {},
     "output_type": "execute_result"
    }
   ],
   "source": [
    "rand = data[['Crime Name3','Crime Type']]\n",
    "rand = data[data['Crime Type'] == 'All Other Offenses']\n",
    "rand['Crime Name3'].value_counts().loc[lambda x: x > 100]"
   ]
  },
  {
   "cell_type": "code",
   "execution_count": 538,
   "metadata": {},
   "outputs": [
    {
     "data": {
      "text/plain": [
       "Larceny              24817\n",
       "Drugs                16318\n",
       "Fraud                11640\n",
       "DUI                  10276\n",
       "Assault               9562\n",
       "Vandalism             7982\n",
       "Burglary              3713\n",
       "Disoderly Conduct     3443\n",
       "Auto Theft            2821\n",
       "Liquor                1354\n",
       "Sexual Assault        1283\n",
       "Robbery               1166\n",
       "Weapon                 892\n",
       "Forgery                854\n",
       "Trespassing            687\n",
       "Rape                   636\n",
       "Family Offense         361\n",
       "Extortion              165\n",
       "Stolen Property        161\n",
       "Arson                  126\n",
       "Embezzlement            65\n",
       "Homicide                55\n",
       "Prostitution            21\n",
       "Drunk                   17\n",
       "Human Trafficking        9\n",
       "Kidnapping               3\n",
       "Name: Crime Type, dtype: int64"
      ]
     },
     "execution_count": 538,
     "metadata": {},
     "output_type": "execute_result"
    }
   ],
   "source": [
    "data2 = data[data['Crime Type'] != 'All Other Offenses']\n",
    "data2['Crime Type'].value_counts()"
   ]
  },
  {
   "cell_type": "code",
   "execution_count": 539,
   "metadata": {},
   "outputs": [],
   "source": [
    "classes = data2['Crime Type'].value_counts().loc[lambda x: x > 7000]\n",
    "\n",
    "top_classes = list(classes.index.values)\n",
    "\n",
    "data2 = data2[data2['Crime Type'].isin(top_classes)]"
   ]
  },
  {
   "cell_type": "code",
   "execution_count": 540,
   "metadata": {},
   "outputs": [
    {
     "data": {
      "text/plain": [
       "Larceny               24817\n",
       "Drugs                 16318\n",
       "Fraud                 11640\n",
       "DUI                   10276\n",
       "Assault                9562\n",
       "Vandalism              7982\n",
       "Burglary               3713\n",
       "Disoderly Conduct      3443\n",
       "All Other Offenses     2978\n",
       "Auto Theft             2821\n",
       "Liquor                 1354\n",
       "Sexual Assault         1283\n",
       "Robbery                1166\n",
       "Weapon                  892\n",
       "Forgery                 854\n",
       "Trespassing             687\n",
       "Rape                    636\n",
       "Family Offense          361\n",
       "Extortion               165\n",
       "Stolen Property         161\n",
       "Arson                   126\n",
       "Embezzlement             65\n",
       "Homicide                 55\n",
       "Prostitution             21\n",
       "Drunk                    17\n",
       "Human Trafficking         9\n",
       "Kidnapping                3\n",
       "Name: Crime Type, dtype: int64"
      ]
     },
     "execution_count": 540,
     "metadata": {},
     "output_type": "execute_result"
    }
   ],
   "source": [
    "data['Crime Type'].value_counts()"
   ]
  },
  {
   "cell_type": "code",
   "execution_count": 541,
   "metadata": {},
   "outputs": [
    {
     "data": {
      "text/plain": [
       "['Assault', 'DUI', 'Drugs', 'Fraud', 'Larceny', 'Vandalism']"
      ]
     },
     "execution_count": 541,
     "metadata": {},
     "output_type": "execute_result"
    }
   ],
   "source": [
    "top_classes = sorted(top_classes)\n",
    "top_classes"
   ]
  },
  {
   "cell_type": "code",
   "execution_count": 542,
   "metadata": {},
   "outputs": [],
   "source": [
    "from sklearn import preprocessing\n",
    "\n",
    "le = preprocessing.LabelEncoder()\n",
    "data2['Crime Type'] = le.fit_transform(data2['Crime Type'])"
   ]
  },
  {
   "cell_type": "code",
   "execution_count": 543,
   "metadata": {},
   "outputs": [],
   "source": [
    "features = data2[data2.columns[~data2.columns.isin(['Incident ID','Block','Crime Name3','Crime Type','Location','Start_Date_Time'])]]"
   ]
  },
  {
   "cell_type": "code",
   "execution_count": 544,
   "metadata": {},
   "outputs": [
    {
     "data": {
      "text/plain": [
       "(80595, 24)"
      ]
     },
     "execution_count": 544,
     "metadata": {},
     "output_type": "execute_result"
    }
   ],
   "source": [
    "features.shape"
   ]
  },
  {
   "cell_type": "code",
   "execution_count": 545,
   "metadata": {},
   "outputs": [
    {
     "data": {
      "text/plain": [
       "4    24817\n",
       "2    16318\n",
       "3    11640\n",
       "1    10276\n",
       "0     9562\n",
       "5     7982\n",
       "Name: Crime Type, dtype: int64"
      ]
     },
     "execution_count": 545,
     "metadata": {},
     "output_type": "execute_result"
    }
   ],
   "source": [
    "data2['Crime Type'].value_counts()"
   ]
  },
  {
   "cell_type": "code",
   "execution_count": 546,
   "metadata": {},
   "outputs": [],
   "source": [
    "labels = np.array(data2['Crime Type'])\n",
    "features1 = np.array(features)"
   ]
  },
  {
   "cell_type": "code",
   "execution_count": 547,
   "metadata": {},
   "outputs": [
    {
     "data": {
      "text/plain": [
       "array([1.00000000e+00, 1.93100000e+03, 2.22619000e+05, 4.87000000e+01,\n",
       "       1.60633484e-01, 3.13725490e-01, 6.58174098e-02, 4.88687783e-02,\n",
       "       1.00000000e+00, 0.00000000e+00, 0.00000000e+00, 0.00000000e+00,\n",
       "       0.00000000e+00, 0.00000000e+00, 0.00000000e+00, 0.00000000e+00,\n",
       "       0.00000000e+00, 1.00000000e+00, 0.00000000e+00, 0.00000000e+00,\n",
       "       0.00000000e+00, 0.00000000e+00, 0.00000000e+00, 0.00000000e+00])"
      ]
     },
     "execution_count": 547,
     "metadata": {},
     "output_type": "execute_result"
    }
   ],
   "source": [
    "features1[0]"
   ]
  },
  {
   "cell_type": "code",
   "execution_count": 548,
   "metadata": {},
   "outputs": [
    {
     "data": {
      "text/plain": [
       "4"
      ]
     },
     "execution_count": 548,
     "metadata": {},
     "output_type": "execute_result"
    }
   ],
   "source": [
    "labels[0]"
   ]
  },
  {
   "cell_type": "code",
   "execution_count": 549,
   "metadata": {},
   "outputs": [
    {
     "data": {
      "text/plain": [
       "6"
      ]
     },
     "execution_count": 549,
     "metadata": {},
     "output_type": "execute_result"
    }
   ],
   "source": [
    "len(np.unique(labels))"
   ]
  },
  {
   "cell_type": "code",
   "execution_count": 550,
   "metadata": {},
   "outputs": [],
   "source": [
    "num_classes= len(np.unique(labels))"
   ]
  },
  {
   "cell_type": "code",
   "execution_count": 551,
   "metadata": {},
   "outputs": [],
   "source": [
    "from sklearn.model_selection import train_test_split\n",
    "train, test, train_labels, test_labels = train_test_split(features1,labels,test_size=0.25,random_state=4)"
   ]
  },
  {
   "cell_type": "code",
   "execution_count": 552,
   "metadata": {},
   "outputs": [
    {
     "data": {
      "text/plain": [
       "(60446, 24)"
      ]
     },
     "execution_count": 552,
     "metadata": {},
     "output_type": "execute_result"
    }
   ],
   "source": [
    "train.shape"
   ]
  },
  {
   "cell_type": "code",
   "execution_count": 553,
   "metadata": {},
   "outputs": [
    {
     "data": {
      "text/plain": [
       "(20149, 24)"
      ]
     },
     "execution_count": 553,
     "metadata": {},
     "output_type": "execute_result"
    }
   ],
   "source": [
    "test.shape"
   ]
  },
  {
   "cell_type": "code",
   "execution_count": 554,
   "metadata": {},
   "outputs": [],
   "source": [
    "from sklearn.model_selection import cross_val_score\n",
    "from sklearn.model_selection import RepeatedStratifiedKFold\n",
    "\n",
    "def evaluate_model(X, y, model):\n",
    "    # define evaluation procedure\n",
    "    cv = RepeatedStratifiedKFold(n_splits=5, n_repeats=3, random_state=1)\n",
    "    # evaluate model\n",
    "    scores = cross_val_score(model, X, y, scoring='accuracy', cv=cv, n_jobs=-1)\n",
    "    return scores"
   ]
  },
  {
   "cell_type": "code",
   "execution_count": 555,
   "metadata": {},
   "outputs": [
    {
     "name": "stdout",
     "output_type": "stream",
     "text": [
      "Mean Accuracy:0.3071120234380148\n"
     ]
    }
   ],
   "source": [
    "from sklearn.dummy import DummyClassifier\n",
    "\n",
    "model = DummyClassifier(strategy='most_frequent')\n",
    "\n",
    "scores = evaluate_model(test, test_labels, model)\n",
    "print('Mean Accuracy:' + str(np.mean(scores)))"
   ]
  },
  {
   "cell_type": "code",
   "execution_count": 556,
   "metadata": {},
   "outputs": [
    {
     "data": {
      "text/plain": [
       "(array([ 7142.,     0.,     0.,     0.,  7658.,     0.,     0.,     0.,\n",
       "        12327.,     0.,     0.,     0.,  8672.,     0.,     0.,     0.,\n",
       "        18629.,     0.,     0.,  6018.]),\n",
       " array([0.  , 0.25, 0.5 , 0.75, 1.  , 1.25, 1.5 , 1.75, 2.  , 2.25, 2.5 ,\n",
       "        2.75, 3.  , 3.25, 3.5 , 3.75, 4.  , 4.25, 4.5 , 4.75, 5.  ]),\n",
       " <BarContainer object of 20 artists>)"
      ]
     },
     "execution_count": 556,
     "metadata": {},
     "output_type": "execute_result"
    },
    {
     "data": {
      "image/png": "[encoded data removed]",
      "text/plain": [
       "<Figure size 432x288 with 1 Axes>"
      ]
     },
     "metadata": {},
     "output_type": "display_data"
    }
   ],
   "source": [
    "plt.hist(train_labels, bins=20)"
   ]
  },
  {
   "cell_type": "code",
   "execution_count": 557,
   "metadata": {},
   "outputs": [],
   "source": [
    "from imblearn.over_sampling import SMOTE\n",
    "from imblearn.under_sampling import RandomUnderSampler\n",
    "\n",
    "smote = SMOTE(random_state=4)\n",
    "\n",
    "X_sm, y_sm = smote.fit_resample(train, train_labels)"
   ]
  },
  {
   "cell_type": "code",
   "execution_count": 558,
   "metadata": {},
   "outputs": [
    {
     "data": {
      "text/plain": [
       "(array([18629.,     0.,     0.,     0., 18629.,     0.,     0.,     0.,\n",
       "        18629.,     0.,     0.,     0., 18629.,     0.,     0.,     0.,\n",
       "        18629.,     0.,     0., 18629.]),\n",
       " array([0.  , 0.25, 0.5 , 0.75, 1.  , 1.25, 1.5 , 1.75, 2.  , 2.25, 2.5 ,\n",
       "        2.75, 3.  , 3.25, 3.5 , 3.75, 4.  , 4.25, 4.5 , 4.75, 5.  ]),\n",
       " <BarContainer object of 20 artists>)"
      ]
     },
     "execution_count": 558,
     "metadata": {},
     "output_type": "execute_result"
    },
    {
     "data": {
      "image/png": "[encoded data removed]",
      "text/plain": [
       "<Figure size 432x288 with 1 Axes>"
      ]
     },
     "metadata": {},
     "output_type": "display_data"
    }
   ],
   "source": [
    "plt.hist(y_sm, bins=20)"
   ]
  },
  {
   "cell_type": "code",
   "execution_count": 559,
   "metadata": {},
   "outputs": [
    {
     "name": "stderr",
     "output_type": "stream",
     "text": [
      "/usr/local/lib/python3.6/dist-packages/imblearn/utils/_validation.py:591: FutureWarning: Pass sampling_strategy=minority as keyword args. From version 0.9 passing these as positional arguments will result in an error\n",
      "  FutureWarning,\n"
     ]
    }
   ],
   "source": [
    "smote2 = SMOTE('minority')\n",
    "\n",
    "X_sm2, y_sm2 = smote2.fit_resample(train, train_labels)"
   ]
  },
  {
   "cell_type": "code",
   "execution_count": 560,
   "metadata": {},
   "outputs": [
    {
     "data": {
      "text/plain": [
       "(array([ 7142.,     0.,     0.,     0.,  7658.,     0.,     0.,     0.,\n",
       "        12327.,     0.,     0.,     0.,  8672.,     0.,     0.,     0.,\n",
       "        18629.,     0.,     0., 18629.]),\n",
       " array([0.  , 0.25, 0.5 , 0.75, 1.  , 1.25, 1.5 , 1.75, 2.  , 2.25, 2.5 ,\n",
       "        2.75, 3.  , 3.25, 3.5 , 3.75, 4.  , 4.25, 4.5 , 4.75, 5.  ]),\n",
       " <BarContainer object of 20 artists>)"
      ]
     },
     "execution_count": 560,
     "metadata": {},
     "output_type": "execute_result"
    },
    {
     "data": {
      "image/png": "[encoded data removed]",
      "text/plain": [
       "<Figure size 432x288 with 1 Axes>"
      ]
     },
     "metadata": {},
     "output_type": "display_data"
    }
   ],
   "source": [
    "plt.hist(y_sm2, bins=20)"
   ]
  },
  {
   "cell_type": "code",
   "execution_count": 561,
   "metadata": {},
   "outputs": [
    {
     "name": "stderr",
     "output_type": "stream",
     "text": [
      "/usr/local/lib/python3.6/dist-packages/imblearn/utils/_validation.py:591: FutureWarning: Pass sampling_strategy=majority as keyword args. From version 0.9 passing these as positional arguments will result in an error\n",
      "  FutureWarning,\n"
     ]
    }
   ],
   "source": [
    "under = RandomUnderSampler('majority')\n",
    "\n",
    "X_u, Y_u = under.fit_resample(train, train_labels)"
   ]
  },
  {
   "cell_type": "code",
   "execution_count": 562,
   "metadata": {},
   "outputs": [
    {
     "data": {
      "text/plain": [
       "(array([ 7142.,     0.,     0.,     0.,  7658.,     0.,     0.,     0.,\n",
       "        12327.,     0.,     0.,     0.,  8672.,     0.,     0.,     0.,\n",
       "         6018.,     0.,     0.,  6018.]),\n",
       " array([0.  , 0.25, 0.5 , 0.75, 1.  , 1.25, 1.5 , 1.75, 2.  , 2.25, 2.5 ,\n",
       "        2.75, 3.  , 3.25, 3.5 , 3.75, 4.  , 4.25, 4.5 , 4.75, 5.  ]),\n",
       " <BarContainer object of 20 artists>)"
      ]
     },
     "execution_count": 562,
     "metadata": {},
     "output_type": "execute_result"
    },
    {
     "data": {
      "image/png": "[encoded data removed]",
      "text/plain": [
       "<Figure size 432x288 with 1 Axes>"
      ]
     },
     "metadata": {},
     "output_type": "display_data"
    }
   ],
   "source": [
    "plt.hist(Y_u, bins=20)"
   ]
  },
  {
   "cell_type": "code",
   "execution_count": 563,
   "metadata": {},
   "outputs": [
    {
     "name": "stderr",
     "output_type": "stream",
     "text": [
      "[Parallel(n_jobs=-1)]: Using backend ThreadingBackend with 28 concurrent workers.\n",
      "[Parallel(n_jobs=-1)]: Done 100 out of 100 | elapsed:    0.5s finished\n"
     ]
    },
    {
     "data": {
      "text/plain": [
       "RandomForestClassifier(max_features='sqrt', n_jobs=-1, random_state=4,\n",
       "                       verbose=1)"
      ]
     },
     "execution_count": 563,
     "metadata": {},
     "output_type": "execute_result"
    }
   ],
   "source": [
    "from sklearn.ensemble import RandomForestClassifier\n",
    "\n",
    "model1 = RandomForestClassifier(n_estimators=100,\n",
    "                               random_state=4,\n",
    "                               max_features='sqrt',\n",
    "                               n_jobs=-1, verbose=1)\n",
    "model1.fit(train,train_labels)"
   ]
  },
  {
   "cell_type": "code",
   "execution_count": 564,
   "metadata": {},
   "outputs": [
    {
     "name": "stderr",
     "output_type": "stream",
     "text": [
      "[Parallel(n_jobs=28)]: Using backend ThreadingBackend with 28 concurrent workers.\n",
      "[Parallel(n_jobs=28)]: Done 100 out of 100 | elapsed:    0.1s finished\n"
     ]
    },
    {
     "name": "stdout",
     "output_type": "stream",
     "text": [
      "Accuracy: 0.5856866345724353\n"
     ]
    }
   ],
   "source": [
    "from sklearn.metrics import accuracy_score\n",
    "\n",
    "predictions = model1.predict(test)\n",
    "\n",
    "print(\"Accuracy: \" + str(accuracy_score(test_labels, predictions)))"
   ]
  },
  {
   "cell_type": "code",
   "execution_count": 565,
   "metadata": {},
   "outputs": [
    {
     "name": "stderr",
     "output_type": "stream",
     "text": [
      "[Parallel(n_jobs=-1)]: Using backend ThreadingBackend with 28 concurrent workers.\n",
      "[Parallel(n_jobs=-1)]: Done 100 out of 100 | elapsed:    1.0s finished\n",
      "[Parallel(n_jobs=28)]: Using backend ThreadingBackend with 28 concurrent workers.\n",
      "[Parallel(n_jobs=28)]: Done 100 out of 100 | elapsed:    0.1s finished\n"
     ]
    },
    {
     "data": {
      "text/plain": [
       "0.5420616407762172"
      ]
     },
     "execution_count": 565,
     "metadata": {},
     "output_type": "execute_result"
    }
   ],
   "source": [
    "model1.fit(X_sm,y_sm)\n",
    "\n",
    "predictions2 = model1.predict(test)\n",
    "\n",
    "accuracy_score(test_labels, predictions2)"
   ]
  },
  {
   "cell_type": "code",
   "execution_count": 566,
   "metadata": {},
   "outputs": [
    {
     "name": "stderr",
     "output_type": "stream",
     "text": [
      "[Parallel(n_jobs=-1)]: Using backend ThreadingBackend with 28 concurrent workers.\n",
      "[Parallel(n_jobs=-1)]: Done 100 out of 100 | elapsed:    0.6s finished\n",
      "[Parallel(n_jobs=28)]: Using backend ThreadingBackend with 28 concurrent workers.\n",
      "[Parallel(n_jobs=28)]: Done 100 out of 100 | elapsed:    0.1s finished\n"
     ]
    },
    {
     "data": {
      "text/plain": [
       "0.5408208844111371"
      ]
     },
     "execution_count": 566,
     "metadata": {},
     "output_type": "execute_result"
    }
   ],
   "source": [
    "model1.fit(X_sm2,y_sm2)\n",
    "\n",
    "predictions3 = model1.predict(test)\n",
    "\n",
    "accuracy_score(test_labels, predictions3)"
   ]
  },
  {
   "cell_type": "code",
   "execution_count": 567,
   "metadata": {},
   "outputs": [
    {
     "name": "stderr",
     "output_type": "stream",
     "text": [
      "[Parallel(n_jobs=-1)]: Using backend ThreadingBackend with 28 concurrent workers.\n",
      "[Parallel(n_jobs=-1)]: Done 100 out of 100 | elapsed:    0.5s finished\n",
      "[Parallel(n_jobs=28)]: Using backend ThreadingBackend with 28 concurrent workers.\n",
      "[Parallel(n_jobs=28)]: Done 100 out of 100 | elapsed:    0.1s finished\n"
     ]
    },
    {
     "data": {
      "text/plain": [
       "0.5354111866593876"
      ]
     },
     "execution_count": 567,
     "metadata": {},
     "output_type": "execute_result"
    }
   ],
   "source": [
    "model1.fit(X_u, Y_u)\n",
    "\n",
    "predictions4 = model1.predict(test)\n",
    "\n",
    "accuracy_score(test_labels, predictions4)"
   ]
  },
  {
   "cell_type": "code",
   "execution_count": 568,
   "metadata": {},
   "outputs": [
    {
     "name": "stdout",
     "output_type": "stream",
     "text": [
      "Variable: Place_Street - In vehicle                Importance: 0.22143568020703147\n",
      "Variable: Place_Other/Unknown                      Importance: 0.2138759061747313\n",
      "Variable: Place_Residence - Apartment/Condo        Importance: 0.06179547869249827\n",
      "Variable: Victims                                  Importance: 0.053304971659632\n",
      "Variable: Place_Residence - Driveway               Importance: 0.04646220915327121\n",
      "Variable: Place_Residence - Single Family          Importance: 0.04390995710665227\n",
      "Variable: Income                                   Importance: 0.04146301209584163\n",
      "Variable: Place_Parking Lot - Residential          Importance: 0.03896556609502467\n",
      "Variable: High School %                            Importance: 0.0381871010614394\n",
      "Variable: Age                                      Importance: 0.03730177476219591\n",
      "Variable: Public Transportation %                  Importance: 0.03604127236328102\n",
      "Variable: Bachelors %                              Importance: 0.03568472107222091\n",
      "Variable: Pop                                      Importance: 0.03398467166319212\n",
      "Variable: Place_Street - Residential               Importance: 0.03348293273933272\n",
      "Variable: Unemployed %                             Importance: 0.03235651406732374\n",
      "Variable: Police District Name_BETHESDA            Importance: 0.006028263509221535\n",
      "Variable: Police District Name_ROCKVILLE           Importance: 0.0057046048582139785\n",
      "Variable: Police District Name_MONTGOMERY VILLAGE  Importance: 0.005253589470364424\n",
      "Variable: Police District Name_SILVER SPRING       Importance: 0.004686879105033454\n",
      "Variable: Police District Name_WHEATON             Importance: 0.004439329037080586\n",
      "Variable: Police District Name_GERMANTOWN          Importance: 0.003405755148755092\n",
      "Variable: Police District Name_CITY OF TAKOMA PARK Importance: 0.0022039027277343023\n",
      "Variable: Police District Name_TAKOMA PARK         Importance: 2.5907229928065544e-05\n",
      "Variable: Police District Name_OTHER               Importance: 0.0\n"
     ]
    },
    {
     "data": {
      "text/plain": [
       "[None,\n",
       " None,\n",
       " None,\n",
       " None,\n",
       " None,\n",
       " None,\n",
       " None,\n",
       " None,\n",
       " None,\n",
       " None,\n",
       " None,\n",
       " None,\n",
       " None,\n",
       " None,\n",
       " None,\n",
       " None,\n",
       " None,\n",
       " None,\n",
       " None,\n",
       " None,\n",
       " None,\n",
       " None,\n",
       " None,\n",
       " None]"
      ]
     },
     "execution_count": 568,
     "metadata": {},
     "output_type": "execute_result"
    }
   ],
   "source": [
    "importances = list(model1.feature_importances_)\n",
    "feature_list = list(features.columns)\n",
    "feature_importances = [(feature, importance) for feature, importance in zip(feature_list,importances)]\n",
    "feature_importances = sorted(feature_importances, key = lambda x: x[1], reverse=True)\n",
    "[print(\"Variable: {:40} Importance: {}\".format(*pair)) for pair in feature_importances]"
   ]
  },
  {
   "cell_type": "code",
   "execution_count": 569,
   "metadata": {},
   "outputs": [
    {
     "name": "stdout",
     "output_type": "stream",
     "text": [
      "['Place_Street - In vehicle', 'Place_Other/Unknown', 'Place_Residence - Apartment/Condo', 'Victims', 'Place_Residence - Driveway', 'Place_Residence - Single Family', 'Income', 'Place_Parking Lot - Residential', 'High School %', 'Age', 'Public Transportation %', 'Bachelors %', 'Pop', 'Place_Street - Residential', 'Unemployed %']\n",
      "[0.22143568020703147, 0.2138759061747313, 0.06179547869249827, 0.053304971659632, 0.04646220915327121, 0.04390995710665227, 0.04146301209584163, 0.03896556609502467, 0.0381871010614394, 0.03730177476219591, 0.03604127236328102, 0.03568472107222091, 0.03398467166319212, 0.03348293273933272, 0.03235651406732374]\n"
     ]
    }
   ],
   "source": [
    "top_features_list = []\n",
    "top_importances = []\n",
    "\n",
    "for x,y in feature_importances:\n",
    "    if(y > 0.025):\n",
    "        top_features_list.append(x)\n",
    "        top_importances.append(y)\n",
    "print(top_features_list)\n",
    "print(top_importances)"
   ]
  },
  {
   "cell_type": "code",
   "execution_count": 570,
   "metadata": {},
   "outputs": [
    {
     "data": {
      "image/png": "[encoded data removed]",
      "text/plain": [
       "<Figure size 1440x1440 with 1 Axes>"
      ]
     },
     "metadata": {},
     "output_type": "display_data"
    }
   ],
   "source": [
    "import matplotlib.pyplot as plt\n",
    "\n",
    "x_values = list(range(len(top_importances)))\n",
    "plt.bar(x_values, top_importances, orientation= 'vertical')\n",
    "plt.xticks(x_values, top_features_list, rotation = 'vertical')\n",
    "plt.ylabel('Importance')\n",
    "plt.xlabel('Variable')\n",
    "plt.title('Top Variable Importances')\n",
    "fig = plt.gcf()\n",
    "fig.set_size_inches(20,20)\n",
    "plt.show()"
   ]
  },
  {
   "cell_type": "code",
   "execution_count": 571,
   "metadata": {},
   "outputs": [],
   "source": [
    "def plot_confusion_matrix(cm, classes,\n",
    "                          normalize=False,\n",
    "                          title='Confusion matrix',\n",
    "                          cmap=plt.cm.Blues):\n",
    "    \"\"\"\n",
    "    This function prints and plots the confusion matrix.\n",
    "    Normalization can be applied by setting `normalize=True`.\n",
    "    \"\"\"\n",
    "    import itertools\n",
    "    if normalize:\n",
    "        cm = cm.astype('float') / cm.sum(axis=1)[:, np.newaxis]\n",
    "        print(\"Normalized confusion matrix\")\n",
    "    else:\n",
    "        print('Confusion matrix, without normalization')\n",
    "\n",
    "    plt.imshow(cm, interpolation='nearest', cmap=cmap)\n",
    "    plt.title(title)\n",
    "    plt.colorbar()\n",
    "    tick_marks = np.arange(len(classes))\n",
    "    plt.xticks(tick_marks, classes, rotation=90)\n",
    "    plt.yticks(tick_marks, classes)\n",
    "\n",
    "    fmt = '.2f' if normalize else 'd'\n",
    "    thresh = cm.max() / 2.\n",
    "    for i, j in itertools.product(range(cm.shape[0]), range(cm.shape[1])):\n",
    "        plt.text(j, i, format(cm[i, j], fmt),\n",
    "                 horizontalalignment=\"center\",\n",
    "                 color=\"white\" if cm[i, j] > thresh else \"black\")\n",
    "\n",
    "    plt.ylabel('True label')\n",
    "    plt.xlabel('Predicted label')\n",
    "    fig = plt.gcf()\n",
    "    fig.set_size_inches(20,20)"
   ]
  },
  {
   "cell_type": "code",
   "execution_count": 572,
   "metadata": {},
   "outputs": [
    {
     "name": "stdout",
     "output_type": "stream",
     "text": [
      "Confusion matrix, without normalization\n"
     ]
    },
    {
     "data": {
      "image/png": "[encoded data removed]",
      "text/plain": [
       "<Figure size 1440x1440 with 2 Axes>"
      ]
     },
     "metadata": {},
     "output_type": "display_data"
    }
   ],
   "source": [
    "from sklearn.metrics import confusion_matrix\n",
    "\n",
    "cfn_matrix = confusion_matrix(predictions, test_labels)\n",
    "\n",
    "disp = plot_confusion_matrix(cfn_matrix, top_classes)"
   ]
  },
  {
   "cell_type": "code",
   "execution_count": 573,
   "metadata": {},
   "outputs": [
    {
     "name": "stdout",
     "output_type": "stream",
     "text": [
      "Fitting 3 folds for each of 10 candidates, totalling 30 fits\n"
     ]
    },
    {
     "data": {
      "text/plain": [
       "RandomizedSearchCV(cv=3, estimator=RandomForestClassifier(random_state=4),\n",
       "                   n_jobs=-1,\n",
       "                   param_distributions={'bootstrap': [True, False],\n",
       "                                        'max_depth': [None, 3, 3, 3, 4, 4, 4, 5,\n",
       "                                                      5, 5, 6, 6, 6, 7, 7, 7, 8,\n",
       "                                                      8, 8, 9, 9, 9, 10, 10, 10,\n",
       "                                                      11, 11, 12, 12, 12, ...],\n",
       "                                        'max_features': ['auto', 'sqrt', None,\n",
       "                                                         0.5, 0.6, 0.7,\n",
       "                                                         0.7999999999999999,\n",
       "                                                         0.8999999999999999],\n",
       "                                        'max_leaf_nodes': [None, 10, 10, 10, 10,\n",
       "                                                           10, 10, 10, 10, 10,\n",
       "                                                           10, 10, 10, 10, 11,\n",
       "                                                           11, 11, 11, 11, 11,\n",
       "                                                           11, 11, 11, 11, 11,\n",
       "                                                           11, 12, 12, 12, 12, ...],\n",
       "                                        'min_samples_split': [2, 5, 10],\n",
       "                                        'n_estimators': array([ 10,  13,  17,  21,  25,  29,  33,  37,  41,  44,  48,  52,  56,\n",
       "        60,  64,  68,  72,  75,  79,  83,  87,  91,  95,  99, 103, 106,\n",
       "       110, 114, 118, 122, 126, 130, 134, 137, 141, 145, 149, 153, 157,\n",
       "       161, 165, 168, 172, 176, 180, 184, 188, 192, 196, 200])},\n",
       "                   random_state=4, verbose=1)"
      ]
     },
     "execution_count": 573,
     "metadata": {},
     "output_type": "execute_result"
    }
   ],
   "source": [
    "from sklearn.model_selection import RandomizedSearchCV\n",
    "\n",
    "param_grid = {\n",
    "    'n_estimators': np.linspace(10,200).astype(int),\n",
    "    'max_depth': [None] + list(np.linspace(3,20).astype(int)),\n",
    "    'max_features': ['auto','sqrt', None] + list(np.arange(0.5,1,0.1)),\n",
    "    'max_leaf_nodes': [None] + list(np.linspace(10,50,500).astype(int)),\n",
    "    'min_samples_split': [2,5,10],\n",
    "    'bootstrap': [True,False]\n",
    "}\n",
    "\n",
    "estimator = RandomForestClassifier(random_state=4)\n",
    "\n",
    "rs = RandomizedSearchCV(estimator, param_grid, n_jobs= -1,cv=3,\n",
    "                       n_iter = 10, verbose = 1, random_state=4)\n",
    "\n",
    "rs.fit(train, train_labels)"
   ]
  },
  {
   "cell_type": "code",
   "execution_count": 574,
   "metadata": {},
   "outputs": [
    {
     "name": "stdout",
     "output_type": "stream",
     "text": [
      "{'n_estimators': 33, 'min_samples_split': 2, 'max_leaf_nodes': 47, 'max_features': 0.6, 'max_depth': 16, 'bootstrap': False}\n"
     ]
    }
   ],
   "source": [
    "print(rs.best_params_)"
   ]
  },
  {
   "cell_type": "code",
   "execution_count": 575,
   "metadata": {},
   "outputs": [],
   "source": [
    "best_model = rs.best_estimator_"
   ]
  },
  {
   "cell_type": "code",
   "execution_count": 576,
   "metadata": {},
   "outputs": [
    {
     "data": {
      "text/plain": [
       "RandomForestClassifier(bootstrap=False, max_depth=16, max_features=0.6,\n",
       "                       max_leaf_nodes=47, n_estimators=33, random_state=4)"
      ]
     },
     "execution_count": 576,
     "metadata": {},
     "output_type": "execute_result"
    }
   ],
   "source": [
    "best_model.fit(train,train_labels)"
   ]
  },
  {
   "cell_type": "code",
   "execution_count": 577,
   "metadata": {},
   "outputs": [
    {
     "data": {
      "text/plain": [
       "0.5915430046156137"
      ]
     },
     "execution_count": 577,
     "metadata": {},
     "output_type": "execute_result"
    }
   ],
   "source": [
    "predictions2 = best_model.predict(test)\n",
    "accuracy_score(test_labels, predictions2)"
   ]
  },
  {
   "cell_type": "code",
   "execution_count": 578,
   "metadata": {},
   "outputs": [
    {
     "name": "stdout",
     "output_type": "stream",
     "text": [
      "Variable: Place_Street - In vehicle                Importance: 0.4206562556822051\n",
      "Variable: Place_Other/Unknown                      Importance: 0.2620500127677537\n",
      "Variable: Place_Residence - Driveway               Importance: 0.07676297509764077\n",
      "Variable: Victims                                  Importance: 0.07574952238171331\n",
      "Variable: Place_Residence - Single Family          Importance: 0.043704495777420777\n",
      "Variable: Place_Residence - Apartment/Condo        Importance: 0.04096978169746934\n",
      "Variable: Place_Parking Lot - Residential          Importance: 0.018659243321570224\n",
      "Variable: Place_Street - Residential               Importance: 0.017398035276659913\n",
      "Variable: Income                                   Importance: 0.010026727305145564\n",
      "Variable: High School %                            Importance: 0.007449129773728691\n",
      "Variable: Police District Name_BETHESDA            Importance: 0.0053329740035592136\n",
      "Variable: Bachelors %                              Importance: 0.003720619616733943\n",
      "Variable: Age                                      Importance: 0.003484789134844468\n",
      "Variable: Police District Name_ROCKVILLE           Importance: 0.0032767896106504902\n",
      "Variable: Public Transportation %                  Importance: 0.003038991230527009\n",
      "Variable: Pop                                      Importance: 0.002552545836782953\n",
      "Variable: Police District Name_MONTGOMERY VILLAGE  Importance: 0.002371039261746247\n",
      "Variable: Police District Name_SILVER SPRING       Importance: 0.0008170243496439111\n",
      "Variable: Unemployed %                             Importance: 0.0007443735614579424\n",
      "Variable: Police District Name_CITY OF TAKOMA PARK Importance: 0.0006264287138962266\n",
      "Variable: Police District Name_WHEATON             Importance: 0.0005420275105382132\n",
      "Variable: Police District Name_GERMANTOWN          Importance: 6.621808831202751e-05\n",
      "Variable: Police District Name_OTHER               Importance: 0.0\n",
      "Variable: Police District Name_TAKOMA PARK         Importance: 0.0\n"
     ]
    },
    {
     "data": {
      "text/plain": [
       "[None,\n",
       " None,\n",
       " None,\n",
       " None,\n",
       " None,\n",
       " None,\n",
       " None,\n",
       " None,\n",
       " None,\n",
       " None,\n",
       " None,\n",
       " None,\n",
       " None,\n",
       " None,\n",
       " None,\n",
       " None,\n",
       " None,\n",
       " None,\n",
       " None,\n",
       " None,\n",
       " None,\n",
       " None,\n",
       " None,\n",
       " None]"
      ]
     },
     "execution_count": 578,
     "metadata": {},
     "output_type": "execute_result"
    }
   ],
   "source": [
    "importances2 = list(best_model.feature_importances_)\n",
    "feature_list2 = list(features.columns)\n",
    "feature_importances2 = [(feature, importance) for feature, importance in zip(feature_list2,importances2)]\n",
    "feature_importances2 = sorted(feature_importances2, key = lambda x: x[1], reverse=True)\n",
    "[print(\"Variable: {:40} Importance: {}\".format(*pair)) for pair in feature_importances2]"
   ]
  },
  {
   "cell_type": "code",
   "execution_count": 579,
   "metadata": {},
   "outputs": [
    {
     "data": {
      "text/plain": [
       "['Place_Street - In vehicle',\n",
       " 'Place_Other/Unknown',\n",
       " 'Place_Residence - Driveway',\n",
       " 'Victims',\n",
       " 'Place_Residence - Single Family',\n",
       " 'Place_Residence - Apartment/Condo']"
      ]
     },
     "execution_count": 579,
     "metadata": {},
     "output_type": "execute_result"
    }
   ],
   "source": [
    "top_importances2 = []\n",
    "top_features_list2 = []\n",
    "\n",
    "for x,y in feature_importances2:\n",
    "    if(y > 0.025):\n",
    "        top_features_list2.append(x)\n",
    "        top_importances2.append(y)\n",
    "top_features_list2"
   ]
  },
  {
   "cell_type": "code",
   "execution_count": 580,
   "metadata": {},
   "outputs": [
    {
     "data": {
      "image/png": "[encoded data removed]",
      "text/plain": [
       "<Figure size 1440x1440 with 1 Axes>"
      ]
     },
     "metadata": {},
     "output_type": "display_data"
    }
   ],
   "source": [
    "x_values2 = list(range(len(top_importances2)))\n",
    "plt.bar(x_values2, top_importances2, orientation= 'vertical')\n",
    "plt.xticks(x_values2, top_features_list2, rotation = 'vertical')\n",
    "plt.ylabel('Importance')\n",
    "plt.xlabel('Variable')\n",
    "plt.title('Top Variable Importances')\n",
    "fig = plt.gcf()\n",
    "fig.set_size_inches(20,20)\n",
    "plt.show()"
   ]
  },
  {
   "cell_type": "code",
   "execution_count": 581,
   "metadata": {},
   "outputs": [
    {
     "name": "stdout",
     "output_type": "stream",
     "text": [
      "Confusion matrix, without normalization\n"
     ]
    },
    {
     "data": {
      "image/png": "[encoded data removed]",
      "text/plain": [
       "<Figure size 1440x1440 with 2 Axes>"
      ]
     },
     "metadata": {},
     "output_type": "display_data"
    }
   ],
   "source": [
    "cfn_matrix2 = confusion_matrix(predictions2, test_labels)\n",
    "\n",
    "disp2 = plot_confusion_matrix(cfn_matrix2, classes=top_classes)"
   ]
  },
  {
   "cell_type": "code",
   "execution_count": 582,
   "metadata": {},
   "outputs": [],
   "source": [
    "classes2 = data['Crime Name3'].value_counts().loc[lambda x: x > 6000]\n",
    "\n",
    "top_classes2 = list(classes2.index.values)\n",
    "\n",
    "data3 = data2[data2['Crime Name3'].isin(top_classes2)]"
   ]
  },
  {
   "cell_type": "code",
   "execution_count": 583,
   "metadata": {},
   "outputs": [
    {
     "data": {
      "text/plain": [
       "42901"
      ]
     },
     "execution_count": 583,
     "metadata": {},
     "output_type": "execute_result"
    }
   ],
   "source": [
    "len(data3)"
   ]
  },
  {
   "cell_type": "code",
   "execution_count": 584,
   "metadata": {},
   "outputs": [
    {
     "data": {
      "text/plain": [
       "LARCENY - FROM AUTO                   15916\n",
       "DRUGS - MARIJUANA - POSSESS           10427\n",
       "DRIVING UNDER THE INFLUENCE LIQUOR    10276\n",
       "ASSAULT - 2ND DEGREE                   6282\n",
       "Name: Crime Name3, dtype: int64"
      ]
     },
     "execution_count": 584,
     "metadata": {},
     "output_type": "execute_result"
    }
   ],
   "source": [
    "data3['Crime Name3'].value_counts()"
   ]
  },
  {
   "cell_type": "code",
   "execution_count": 585,
   "metadata": {},
   "outputs": [
    {
     "data": {
      "text/plain": [
       "['ASSAULT - 2ND DEGREE',\n",
       " 'DRIVING UNDER THE INFLUENCE LIQUOR',\n",
       " 'DRUGS - MARIJUANA - POSSESS',\n",
       " 'LARCENY - FROM AUTO']"
      ]
     },
     "execution_count": 585,
     "metadata": {},
     "output_type": "execute_result"
    }
   ],
   "source": [
    "top_classes2 = sorted(top_classes2)\n",
    "top_classes2"
   ]
  },
  {
   "cell_type": "code",
   "execution_count": 586,
   "metadata": {},
   "outputs": [
    {
     "name": "stderr",
     "output_type": "stream",
     "text": [
      "/usr/local/lib/python3.6/dist-packages/ipykernel_launcher.py:2: SettingWithCopyWarning: \n",
      "A value is trying to be set on a copy of a slice from a DataFrame.\n",
      "Try using .loc[row_indexer,col_indexer] = value instead\n",
      "\n",
      "See the caveats in the documentation: https://pandas.pydata.org/pandas-docs/stable/user_guide/indexing.html#returning-a-view-versus-a-copy\n",
      "  \n"
     ]
    }
   ],
   "source": [
    "le = preprocessing.LabelEncoder()\n",
    "data3['Crime Name3'] = le.fit_transform(data3['Crime Name3'])"
   ]
  },
  {
   "cell_type": "code",
   "execution_count": 587,
   "metadata": {},
   "outputs": [],
   "source": [
    "features2 = data3[data3.columns[~data3.columns.isin(['Incident ID','Block','Crime Name3','Crime Type','Location','Start_Date_Time'])]]"
   ]
  },
  {
   "cell_type": "code",
   "execution_count": 588,
   "metadata": {},
   "outputs": [],
   "source": [
    "labels2 = np.array(data3['Crime Name3'])\n",
    "features2 = np.array(features2)"
   ]
  },
  {
   "cell_type": "code",
   "execution_count": 589,
   "metadata": {},
   "outputs": [],
   "source": [
    "num_classes= len(np.unique(labels2))"
   ]
  },
  {
   "cell_type": "code",
   "execution_count": 590,
   "metadata": {},
   "outputs": [],
   "source": [
    "train2, test2, train_labels2, test_labels2 = train_test_split(features2,labels2,test_size=0.25,random_state=4)"
   ]
  },
  {
   "cell_type": "code",
   "execution_count": 591,
   "metadata": {},
   "outputs": [
    {
     "name": "stderr",
     "output_type": "stream",
     "text": [
      "[Parallel(n_jobs=-1)]: Using backend ThreadingBackend with 28 concurrent workers.\n",
      "[Parallel(n_jobs=-1)]: Done 100 out of 100 | elapsed:    0.6s finished\n"
     ]
    },
    {
     "data": {
      "text/plain": [
       "RandomForestClassifier(max_features='sqrt', n_jobs=-1, random_state=4,\n",
       "                       verbose=1)"
      ]
     },
     "execution_count": 591,
     "metadata": {},
     "output_type": "execute_result"
    }
   ],
   "source": [
    "model2 = RandomForestClassifier(n_estimators=100,\n",
    "                               random_state=4,\n",
    "                               max_features='sqrt',\n",
    "                               n_jobs=-1, verbose=1)\n",
    "model2.fit(train2,train_labels2)"
   ]
  },
  {
   "cell_type": "code",
   "execution_count": 592,
   "metadata": {},
   "outputs": [
    {
     "name": "stdout",
     "output_type": "stream",
     "text": [
      "Accuracy: 0.6962520977065075\n"
     ]
    },
    {
     "name": "stderr",
     "output_type": "stream",
     "text": [
      "[Parallel(n_jobs=28)]: Using backend ThreadingBackend with 28 concurrent workers.\n",
      "[Parallel(n_jobs=28)]: Done 100 out of 100 | elapsed:    0.1s finished\n"
     ]
    }
   ],
   "source": [
    "predictions_new = model2.predict(test2)\n",
    "\n",
    "print(\"Accuracy: \" + str(accuracy_score(test_labels2, predictions_new)))"
   ]
  },
  {
   "cell_type": "code",
   "execution_count": 593,
   "metadata": {},
   "outputs": [
    {
     "name": "stdout",
     "output_type": "stream",
     "text": [
      "Variable: Place_Street - In vehicle                Importance: 0.30776211072933773\n",
      "Variable: Place_Residence - Driveway               Importance: 0.12236890388456716\n",
      "Variable: Place_Residence - Apartment/Condo        Importance: 0.11253362974239127\n",
      "Variable: Place_Residence - Single Family          Importance: 0.06379677185531753\n",
      "Variable: Place_Parking Lot - Residential          Importance: 0.06184192041333236\n",
      "Variable: Place_Street - Residential               Importance: 0.05089191259302873\n",
      "Variable: Victims                                  Importance: 0.04759092788638124\n",
      "Variable: Income                                   Importance: 0.03639986204158782\n",
      "Variable: Age                                      Importance: 0.031258425203202114\n",
      "Variable: High School %                            Importance: 0.028552843071834148\n",
      "Variable: Bachelors %                              Importance: 0.026785841071607287\n",
      "Variable: Public Transportation %                  Importance: 0.026734154737744324\n",
      "Variable: Pop                                      Importance: 0.02583126074280095\n",
      "Variable: Unemployed %                             Importance: 0.02515675777066901\n",
      "Variable: Police District Name_MONTGOMERY VILLAGE  Importance: 0.005958645027680432\n",
      "Variable: Police District Name_BETHESDA            Importance: 0.005595398080149279\n",
      "Variable: Police District Name_WHEATON             Importance: 0.004279543452102971\n",
      "Variable: Police District Name_SILVER SPRING       Importance: 0.004203601846259266\n",
      "Variable: Place_Other/Unknown                      Importance: 0.004041366581576974\n",
      "Variable: Police District Name_ROCKVILLE           Importance: 0.0036153480638261904\n",
      "Variable: Police District Name_GERMANTOWN          Importance: 0.0025860317954107905\n",
      "Variable: Police District Name_CITY OF TAKOMA PARK Importance: 0.0021606408543175457\n",
      "Variable: Police District Name_TAKOMA PARK         Importance: 5.410255487485273e-05\n",
      "Variable: Police District Name_OTHER               Importance: 0.0\n"
     ]
    },
    {
     "data": {
      "text/plain": [
       "[None,\n",
       " None,\n",
       " None,\n",
       " None,\n",
       " None,\n",
       " None,\n",
       " None,\n",
       " None,\n",
       " None,\n",
       " None,\n",
       " None,\n",
       " None,\n",
       " None,\n",
       " None,\n",
       " None,\n",
       " None,\n",
       " None,\n",
       " None,\n",
       " None,\n",
       " None,\n",
       " None,\n",
       " None,\n",
       " None,\n",
       " None]"
      ]
     },
     "execution_count": 593,
     "metadata": {},
     "output_type": "execute_result"
    }
   ],
   "source": [
    "importances3 = list(model2.feature_importances_)\n",
    "feature_list3 = list(features.columns)\n",
    "feature_importances3 = [(feature, importance) for feature, importance in zip(feature_list3,importances3)]\n",
    "feature_importances3 = sorted(feature_importances3, key = lambda x: x[1], reverse=True)\n",
    "[print(\"Variable: {:40} Importance: {}\".format(*pair)) for pair in feature_importances3]"
   ]
  },
  {
   "cell_type": "code",
   "execution_count": 594,
   "metadata": {},
   "outputs": [
    {
     "data": {
      "text/plain": [
       "['Place_Street - In vehicle',\n",
       " 'Place_Residence - Driveway',\n",
       " 'Place_Residence - Apartment/Condo',\n",
       " 'Place_Residence - Single Family',\n",
       " 'Place_Parking Lot - Residential',\n",
       " 'Place_Street - Residential',\n",
       " 'Victims',\n",
       " 'Income',\n",
       " 'Age',\n",
       " 'High School %',\n",
       " 'Bachelors %',\n",
       " 'Public Transportation %',\n",
       " 'Pop',\n",
       " 'Unemployed %']"
      ]
     },
     "execution_count": 594,
     "metadata": {},
     "output_type": "execute_result"
    }
   ],
   "source": [
    "top_importances3 = []\n",
    "top_features_list3 = []\n",
    "\n",
    "for x,y in feature_importances3:\n",
    "    if(y > 0.025):\n",
    "        top_features_list3.append(x)\n",
    "        top_importances3.append(y)\n",
    "top_features_list3"
   ]
  },
  {
   "cell_type": "code",
   "execution_count": 596,
   "metadata": {},
   "outputs": [
    {
     "data": {
      "image/png": "[encoded data removed]",
      "text/plain": [
       "<Figure size 1440x1440 with 1 Axes>"
      ]
     },
     "metadata": {},
     "output_type": "display_data"
    }
   ],
   "source": [
    "x_values3 = list(range(len(top_importances3)))\n",
    "plt.bar(x_values3, top_importances3, orientation= 'vertical')\n",
    "plt.xticks(x_values3, top_features_list3, rotation = 'vertical')\n",
    "plt.ylabel('Importance')\n",
    "plt.xlabel('Variable')\n",
    "plt.title('Top Variable Importances')\n",
    "fig = plt.gcf()\n",
    "fig.set_size_inches(20,20)\n",
    "plt.show()"
   ]
  },
  {
   "cell_type": "code",
   "execution_count": 598,
   "metadata": {},
   "outputs": [
    {
     "name": "stdout",
     "output_type": "stream",
     "text": [
      "Confusion matrix, without normalization\n"
     ]
    },
    {
     "data": {
      "image/png": "[encoded data removed]",
      "text/plain": [
       "<Figure size 1440x1440 with 2 Axes>"
      ]
     },
     "metadata": {},
     "output_type": "display_data"
    }
   ],
   "source": [
    "cfn_matrix3 = confusion_matrix(predictions_new, test_labels2)\n",
    "\n",
    "disp3 = plot_confusion_matrix(cfn_matrix3, classes=top_classes2)"
   ]
  },
  {
   "cell_type": "code",
   "execution_count": null,
   "metadata": {},
   "outputs": [],
   "source": []
  },
  {
   "cell_type": "code",
   "execution_count": null,
   "metadata": {},
   "outputs": [],
   "source": []
  },
  {
   "cell_type": "code",
   "execution_count": null,
   "metadata": {},
   "outputs": [],
   "source": []
  },
  {
   "cell_type": "code",
   "execution_count": null,
   "metadata": {},
   "outputs": [],
   "source": []
  },
  {
   "cell_type": "code",
   "execution_count": null,
   "metadata": {},
   "outputs": [],
   "source": []
  }
 ],
 "metadata": {
  "kernelspec": {
   "display_name": "Python 3",
   "language": "python",
   "name": "python3"
  },
  "language_info": {
   "codemirror_mode": {
    "name": "ipython",
    "version": 3
   },
   "file_extension": ".py",
   "mimetype": "text/x-python",
   "name": "python",
   "nbconvert_exporter": "python",
   "pygments_lexer": "ipython3",
   "version": "3.6.9"
  }
 },
 "nbformat": 4,
 "nbformat_minor": 4
}
