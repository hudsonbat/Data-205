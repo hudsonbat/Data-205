{
 "cells": [
  {
   "cell_type": "code",
   "execution_count": null,
   "metadata": {},
   "outputs": [],
   "source": [
    "import geopandas as gpd\n",
    "import pandas as pd\n",
    "import os"
   ]
  },
  {
   "cell_type": "code",
   "execution_count": null,
   "metadata": {},
   "outputs": [],
   "source": [
    "fp = '/Users/hudsonfinchbatista/Desktop/Python Datasets/Capstone/cb_md/cb_2018_24_bg_500k.shp'"
   ]
  },
  {
   "cell_type": "code",
   "execution_count": null,
   "metadata": {},
   "outputs": [],
   "source": [
    "data = gpd.read_file(fp)"
   ]
  },
  {
   "cell_type": "code",
   "execution_count": null,
   "metadata": {},
   "outputs": [],
   "source": [
    "data.head()"
   ]
  },
  {
   "cell_type": "code",
   "execution_count": null,
   "metadata": {},
   "outputs": [],
   "source": [
    "data1 = data[data['COUNTYFP'] == '031']"
   ]
  },
  {
   "cell_type": "code",
   "execution_count": null,
   "metadata": {},
   "outputs": [],
   "source": [
    "import folium\n",
    "from folium.plugins import MarkerCluster"
   ]
  },
  {
   "cell_type": "code",
   "execution_count": null,
   "metadata": {},
   "outputs": [],
   "source": [
    "map = folium.Map(location=[-77.0668, 39.1483],\n",
    "                     tiles=\"Cartodb Positron\",\n",
    "                     zoom_start=12,max_bounds=True)\n",
    "\n",
    "marker_cluster = folium.plugins.MarkerCluster()"
   ]
  },
  {
   "cell_type": "code",
   "execution_count": null,
   "metadata": {},
   "outputs": [],
   "source": [
    "import requests\n",
    "import json"
   ]
  },
  {
   "cell_type": "code",
   "execution_count": null,
   "metadata": {},
   "outputs": [],
   "source": [
    "census_api_url='https://api.census.gov/data/2019/acs/acs5?key=d62e9dc3485b7ad18ea2f4ebf8a2ebd6a41fd469&get=NAME,B01001_001E,B01002_001E,B19013_001E,B08301_001E,B08301_010E,B15003_001E,B15003_017E,B15003_022E,B23025_003E,B23025_005E&for=block%20group:*&in=state:24&in=county:031&in=tract:*'\n",
    "\n",
    "responseCensus = requests.get(census_api_url, headers={'Content-Type': 'application/json'})\n",
    "textCensus=json.loads(responseCensus.content)\n",
    "tractDF = pd.DataFrame(textCensus)\n",
    "print('Shape of census tract file: ' + str(tractDF.shape))\n",
    "\n",
    "tractDF.rename(columns = tractDF.iloc[0], inplace=True)\n",
    "tractDF = tractDF.iloc[1:]\n",
    "tractDF.rename(index=str,columns={'B01001_001E':'Pop','B19013_001E':'Income',\n",
    "                                  'B08301_001E':'Means of Transportation',\n",
    "                                  'B08301_010E':'Public Transportation',\n",
    "                                  'B15003_001E':'Educational Attainment','B15003_017E':'High School',\n",
    "                                  'B15003_022E':'Bachelors',\n",
    "                                  'B01002_001E':'Age','B23025_003E':'Total Laborforce',\n",
    "                                  'B23025_005E':'Total Unemployed',\n",
    "                                  'block group':'Block',\n",
    "                                  'tract':'Tract'}, inplace=True)"
   ]
  },
  {
   "cell_type": "code",
   "execution_count": null,
   "metadata": {},
   "outputs": [],
   "source": [
    "tractDF['Block'] = tractDF['Block'].apply(str)\n",
    "tractDF['Tract'] = tractDF['Tract'].apply(str)\n",
    "tractDF['GEOID'] = \"\"\n",
    "\n",
    "state_county = \"24031\" "
   ]
  },
  {
   "cell_type": "code",
   "execution_count": null,
   "metadata": {},
   "outputs": [],
   "source": [
    "for i in range(0,len(tractDF)):\n",
    "    tractDF['GEOID'][i] = state_county + tractDF['Tract'][i] + tractDF['Block'][i]\n",
    "    \n",
    "tractDF.head() "
   ]
  },
  {
   "cell_type": "code",
   "execution_count": null,
   "metadata": {},
   "outputs": [],
   "source": [
    "tractDF.set_index('GEOID', inplace=True)\n",
    "tractDF.drop(['NAME', 'state', 'county','Tract'],inplace=True, axis=1)\n",
    "tractDF=tractDF[['Pop','Income','Means of Transportation','Public Transportation','Educational Attainment','High School','Bachelors','Total Laborforce','Total Unemployed','Age']].apply(pd.to_numeric, errors='coerce')\n",
    "print(tractDF.info())"
   ]
  },
  {
   "cell_type": "code",
   "execution_count": null,
   "metadata": {},
   "outputs": [],
   "source": [
    "data2 = pd.merge(data1,tractDF, how='left', on='GEOID')"
   ]
  },
  {
   "cell_type": "code",
   "execution_count": null,
   "metadata": {},
   "outputs": [],
   "source": [
    "data2[data2['Educational Attainment'] == 0]"
   ]
  },
  {
   "cell_type": "code",
   "execution_count": null,
   "metadata": {},
   "outputs": [],
   "source": [
    "data2 = data2[data2['Educational Attainment'] != 0]"
   ]
  },
  {
   "cell_type": "code",
   "execution_count": null,
   "metadata": {},
   "outputs": [],
   "source": [
    "data2['High School %'] = data2.apply(lambda x: x['High School']/x['Educational Attainment'],axis = 1)\n",
    "data2['Bachelors %'] = data2.apply(lambda x: x['Bachelors']/x['Educational Attainment'],axis = 1)\n",
    "data2['Public Transportation %'] = data2.apply(lambda x: x['Public Transportation']/x['Means of Transportation'], axis = 1)\n",
    "data2['Unemployed %'] = data2.apply(lambda x: x['Total Unemployed']/x['Total Laborforce'], axis = 1)\n"
   ]
  },
  {
   "cell_type": "code",
   "execution_count": null,
   "metadata": {},
   "outputs": [],
   "source": [
    "data3 = data2[['GEOID','Income','geometry']]"
   ]
  },
  {
   "cell_type": "code",
   "execution_count": null,
   "metadata": {},
   "outputs": [],
   "source": [
    "data3['Income'].value_counts()"
   ]
  },
  {
   "cell_type": "code",
   "execution_count": null,
   "metadata": {},
   "outputs": [],
   "source": [
    "data3 = data3[data3['Income'] != -666666666]"
   ]
  },
  {
   "cell_type": "code",
   "execution_count": null,
   "metadata": {},
   "outputs": [],
   "source": [
    "ax = data3.plot(column='Income',cmap ='YlGnBu')\n",
    "ax"
   ]
  },
  {
   "cell_type": "code",
   "execution_count": null,
   "metadata": {},
   "outputs": [],
   "source": [
    "os.chdir('/Users/hudsonfinchbatista/Desktop/Python Datasets/Capstone/Crimes by Block')\n",
    "dataframe5 = pd.read_csv('Crime_Clean.csv')"
   ]
  },
  {
   "cell_type": "code",
   "execution_count": null,
   "metadata": {},
   "outputs": [],
   "source": [
    "for idx, row in dataframe5.iterrows():\n",
    "    lat = row['Latitude']\n",
    "    long = row['Longitude']\n",
    "    marker = folium.map.Marker([lat, long])\n",
    "    marker_cluster.add_child(marker)"
   ]
  },
  {
   "cell_type": "code",
   "execution_count": null,
   "metadata": {},
   "outputs": [],
   "source": [
    "map.add_child(marker_cluster)\n",
    "map"
   ]
  },
  {
   "cell_type": "code",
   "execution_count": null,
   "metadata": {},
   "outputs": [],
   "source": [
    "data3.to_file('myshpfile.geojson',driver='GeoJSON')"
   ]
  },
  {
   "cell_type": "code",
   "execution_count": null,
   "metadata": {},
   "outputs": [],
   "source": [
    "with open(\"myshpfile.geojson\") as f:\n",
    "    geo = json.load(f)"
   ]
  },
  {
   "cell_type": "code",
   "execution_count": null,
   "metadata": {},
   "outputs": [],
   "source": [
    "folium.Choropleth(\n",
    "geo_data=geo,\n",
    "data=data3,\n",
    "columns = ['GEOID','Income'],\n",
    "key_on = 'feature.properties.GEOID',\n",
    "fill_color = 'OrRd').add_to(map)"
   ]
  },
  {
   "cell_type": "code",
   "execution_count": null,
   "metadata": {},
   "outputs": [],
   "source": [
    "map"
   ]
  },
  {
   "cell_type": "code",
   "execution_count": null,
   "metadata": {},
   "outputs": [],
   "source": [
    "data2.to_file('myshpfile2.geojson',driver='GeoJSON')\n",
    "\n",
    "with open('myshpfile2.geojson') as g:\n",
    "    geo2 = json.load(g)"
   ]
  },
  {
   "cell_type": "code",
   "execution_count": null,
   "metadata": {},
   "outputs": [],
   "source": [
    "ax1 = data2.plot(column='Public Transportation %',cmap ='YlGnBu')\n",
    "ax1"
   ]
  },
  {
   "cell_type": "code",
   "execution_count": null,
   "metadata": {},
   "outputs": [],
   "source": [
    "map2 = folium.Map(location=[-77.0668, 39.1483],\n",
    "                     tiles=\"Cartodb Positron\",\n",
    "                     zoom_start=12,max_bounds=True)\n",
    "\n",
    "marker_cluster2 = folium.plugins.MarkerCluster()"
   ]
  },
  {
   "cell_type": "code",
   "execution_count": null,
   "metadata": {},
   "outputs": [],
   "source": [
    "for idx, row in dataframe5.iterrows():\n",
    "    lat = row['Latitude']\n",
    "    long = row['Longitude']\n",
    "    marker = folium.map.Marker([lat, long])\n",
    "    marker_cluster2.add_child(marker)"
   ]
  },
  {
   "cell_type": "code",
   "execution_count": null,
   "metadata": {},
   "outputs": [],
   "source": [
    "map2.add_child(marker_cluster2)"
   ]
  },
  {
   "cell_type": "code",
   "execution_count": null,
   "metadata": {},
   "outputs": [],
   "source": [
    "folium.Choropleth(\n",
    "geo_data=geo2,\n",
    "data=data2,\n",
    "columns = ['GEOID','Public Transportation %'],\n",
    "key_on = 'feature.properties.GEOID',\n",
    "fill_color = 'OrRd').add_to(map2)"
   ]
  },
  {
   "cell_type": "code",
   "execution_count": null,
   "metadata": {},
   "outputs": [],
   "source": [
    "map2"
   ]
  },
  {
   "cell_type": "code",
   "execution_count": null,
   "metadata": {},
   "outputs": [],
   "source": [
    "ax2 = data2.plot(column='Unemployed %',cmap ='YlGnBu')\n",
    "ax2"
   ]
  },
  {
   "cell_type": "code",
   "execution_count": null,
   "metadata": {},
   "outputs": [],
   "source": [
    "map3 = folium.Map(location=[-77.0668, 39.1483],\n",
    "                     tiles=\"Cartodb Positron\",\n",
    "                     zoom_start=12,max_bounds=True)\n",
    "\n",
    "marker_cluster3 = folium.plugins.MarkerCluster()"
   ]
  },
  {
   "cell_type": "code",
   "execution_count": null,
   "metadata": {},
   "outputs": [],
   "source": [
    "for idx, row in dataframe5.iterrows():\n",
    "    lat = row['Latitude']\n",
    "    long = row['Longitude']\n",
    "    marker = folium.map.Marker([lat, long])\n",
    "    marker_cluster3.add_child(marker)"
   ]
  },
  {
   "cell_type": "code",
   "execution_count": null,
   "metadata": {},
   "outputs": [],
   "source": [
    "map3.add_child(marker_cluster3)"
   ]
  },
  {
   "cell_type": "code",
   "execution_count": null,
   "metadata": {},
   "outputs": [],
   "source": [
    "folium.Choropleth(\n",
    "geo_data=geo2,\n",
    "data=data2,\n",
    "columns = ['GEOID','Unemployed %'],\n",
    "key_on = 'feature.properties.GEOID',\n",
    "fill_color = 'OrRd').add_to(map3)"
   ]
  },
  {
   "cell_type": "code",
   "execution_count": null,
   "metadata": {},
   "outputs": [],
   "source": [
    "map3"
   ]
  },
  {
   "cell_type": "code",
   "execution_count": null,
   "metadata": {},
   "outputs": [],
   "source": [
    "ax3 = data2.plot(column='High School %',cmap ='YlGnBu')\n",
    "ax3"
   ]
  },
  {
   "cell_type": "code",
   "execution_count": null,
   "metadata": {},
   "outputs": [],
   "source": [
    "map4 = folium.Map(location=[-77.0668, 39.1483],\n",
    "                     tiles=\"Cartodb Positron\",\n",
    "                     zoom_start=12, max_bounds=True)\n",
    "\n",
    "marker_cluster4 = folium.plugins.MarkerCluster()"
   ]
  },
  {
   "cell_type": "code",
   "execution_count": null,
   "metadata": {},
   "outputs": [],
   "source": [
    "for idx, row in dataframe5.iterrows():\n",
    "    lat = row['Latitude']\n",
    "    long = row['Longitude']\n",
    "    marker = folium.map.Marker([lat, long])\n",
    "    marker_cluster4.add_child(marker)"
   ]
  },
  {
   "cell_type": "code",
   "execution_count": null,
   "metadata": {},
   "outputs": [],
   "source": [
    "map4.add_child(marker_cluster4)"
   ]
  },
  {
   "cell_type": "code",
   "execution_count": null,
   "metadata": {},
   "outputs": [],
   "source": [
    "folium.Choropleth(\n",
    "geo_data=geo2,\n",
    "data=data2,\n",
    "columns = ['GEOID','High School %'],\n",
    "key_on = 'feature.properties.GEOID',\n",
    "fill_color = 'OrRd').add_to(map4)"
   ]
  },
  {
   "cell_type": "code",
   "execution_count": null,
   "metadata": {},
   "outputs": [],
   "source": [
    "map4"
   ]
  },
  {
   "cell_type": "code",
   "execution_count": null,
   "metadata": {},
   "outputs": [],
   "source": []
  }
 ],
 "metadata": {
  "kernelspec": {
   "display_name": "Python 3",
   "language": "python",
   "name": "python3"
  },
  "language_info": {
   "codemirror_mode": {
    "name": "ipython",
    "version": 3
   },
   "file_extension": ".py",
   "mimetype": "text/x-python",
   "name": "python",
   "nbconvert_exporter": "python",
   "pygments_lexer": "ipython3",
   "version": "3.8.3"
  }
 },
 "nbformat": 4,
 "nbformat_minor": 4
}
